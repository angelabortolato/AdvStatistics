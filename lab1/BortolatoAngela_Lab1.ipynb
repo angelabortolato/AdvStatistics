{
 "cells": [
  {
   "cell_type": "markdown",
   "metadata": {},
   "source": [
    "## Exercise 1 NYC bike sharing data"
   ]
  },
  {
   "cell_type": "code",
   "execution_count": 1,
   "metadata": {
    "vscode": {
     "languageId": "r"
    }
   },
   "outputs": [
    {
     "name": "stderr",
     "output_type": "stream",
     "text": [
      "Warning message:\n",
      "\"il pacchetto 'tidyverse' è stato creato con R versione 4.4.3\"\n",
      "Warning message:\n",
      "\"il pacchetto 'ggplot2' è stato creato con R versione 4.4.3\"\n",
      "Warning message:\n",
      "\"il pacchetto 'tibble' è stato creato con R versione 4.4.3\"\n",
      "Warning message:\n",
      "\"il pacchetto 'tidyr' è stato creato con R versione 4.4.3\"\n",
      "Warning message:\n",
      "\"il pacchetto 'readr' è stato creato con R versione 4.4.3\"\n",
      "Warning message:\n",
      "\"il pacchetto 'dplyr' è stato creato con R versione 4.4.3\"\n",
      "Warning message:\n",
      "\"il pacchetto 'forcats' è stato creato con R versione 4.4.3\"\n",
      "Warning message:\n",
      "\"il pacchetto 'lubridate' è stato creato con R versione 4.4.3\"\n",
      "── \u001b[1mAttaching core tidyverse packages\u001b[22m ──────────────────────── tidyverse 2.0.0 ──\n",
      "\u001b[32m✔\u001b[39m \u001b[34mdplyr    \u001b[39m 1.1.4     \u001b[32m✔\u001b[39m \u001b[34mreadr    \u001b[39m 2.1.5\n",
      "\u001b[32m✔\u001b[39m \u001b[34mforcats  \u001b[39m 1.0.0     \u001b[32m✔\u001b[39m \u001b[34mstringr  \u001b[39m 1.5.1\n",
      "\u001b[32m✔\u001b[39m \u001b[34mggplot2  \u001b[39m 3.5.1     \u001b[32m✔\u001b[39m \u001b[34mtibble   \u001b[39m 3.2.1\n",
      "\u001b[32m✔\u001b[39m \u001b[34mlubridate\u001b[39m 1.9.4     \u001b[32m✔\u001b[39m \u001b[34mtidyr    \u001b[39m 1.3.1\n",
      "\u001b[32m✔\u001b[39m \u001b[34mpurrr    \u001b[39m 1.0.4     \n",
      "── \u001b[1mConflicts\u001b[22m ────────────────────────────────────────── tidyverse_conflicts() ──\n",
      "\u001b[31m✖\u001b[39m \u001b[34mdplyr\u001b[39m::\u001b[32mfilter()\u001b[39m masks \u001b[34mstats\u001b[39m::filter()\n",
      "\u001b[31m✖\u001b[39m \u001b[34mdplyr\u001b[39m::\u001b[32mlag()\u001b[39m    masks \u001b[34mstats\u001b[39m::lag()\n",
      "\u001b[36mℹ\u001b[39m Use the conflicted package (\u001b[3m\u001b[34m<http://conflicted.r-lib.org/>\u001b[39m\u001b[23m) to force all conflicts to become errors\n"
     ]
    }
   ],
   "source": [
    "library(tidyverse)"
   ]
  },
  {
   "cell_type": "code",
   "execution_count": 2,
   "metadata": {
    "vscode": {
     "languageId": "r"
    }
   },
   "outputs": [],
   "source": [
    "#read the data and import in a data.frame\n",
    "data2 <- read.csv(\"JC-201902-citibike-tripdata.csv\", header = T)\n",
    "data3 <- read.csv(\"JC-201903-citibike-tripdata.csv\", header = T)\n",
    "data4 <- read.csv(\"JC-201904-citibike-tripdata.csv\", header = T)\n",
    "data5 <- read.csv(\"JC-201905-citibike-tripdata.csv\", header = T)\n",
    "data6 <- read.csv(\"JC-201906-citibike-tripdata.csv\", header = T)"
   ]
  },
  {
   "cell_type": "code",
   "execution_count": 3,
   "metadata": {
    "vscode": {
     "languageId": "r"
    }
   },
   "outputs": [],
   "source": [
    "#merge the five data frames (adding rows)\n",
    "data <- rbind(data2, data3, data4, data5, data6)"
   ]
  },
  {
   "cell_type": "code",
   "execution_count": 4,
   "metadata": {
    "vscode": {
     "languageId": "r"
    }
   },
   "outputs": [
    {
     "data": {
      "text/html": [
       "<table class=\"dataframe\">\n",
       "<caption>A data.frame: 150792 × 15</caption>\n",
       "<thead>\n",
       "\t<tr><th></th><th scope=col>tripduration</th><th scope=col>starttime</th><th scope=col>stoptime</th><th scope=col>start.station.id</th><th scope=col>start.station.name</th><th scope=col>start.station.latitude</th><th scope=col>start.station.longitude</th><th scope=col>end.station.id</th><th scope=col>end.station.name</th><th scope=col>end.station.latitude</th><th scope=col>end.station.longitude</th><th scope=col>bikeid</th><th scope=col>usertype</th><th scope=col>birth.year</th><th scope=col>gender</th></tr>\n",
       "\t<tr><th></th><th scope=col>&lt;int&gt;</th><th scope=col>&lt;chr&gt;</th><th scope=col>&lt;chr&gt;</th><th scope=col>&lt;int&gt;</th><th scope=col>&lt;chr&gt;</th><th scope=col>&lt;dbl&gt;</th><th scope=col>&lt;dbl&gt;</th><th scope=col>&lt;int&gt;</th><th scope=col>&lt;chr&gt;</th><th scope=col>&lt;dbl&gt;</th><th scope=col>&lt;dbl&gt;</th><th scope=col>&lt;int&gt;</th><th scope=col>&lt;chr&gt;</th><th scope=col>&lt;int&gt;</th><th scope=col>&lt;int&gt;</th></tr>\n",
       "</thead>\n",
       "<tbody>\n",
       "\t<tr><th scope=row>1</th><td> 142</td><td>2019-02-01 15:35:02.0820</td><td>2019-02-01 15:37:24.1360</td><td>3183</td><td>Exchange Place</td><td>40.71625</td><td>-74.03346</td><td>3639</td><td>Harborside      </td><td>40.71925</td><td>-74.03423</td><td>29677</td><td>Subscriber</td><td>1963</td><td>1</td></tr>\n",
       "\t<tr><th scope=row>2</th><td> 223</td><td>2019-02-01 17:00:46.8900</td><td>2019-02-01 17:04:30.5500</td><td>3183</td><td>Exchange Place</td><td>40.71625</td><td>-74.03346</td><td>3681</td><td>Grand St        </td><td>40.71518</td><td>-74.03768</td><td>26234</td><td>Subscriber</td><td>1992</td><td>2</td></tr>\n",
       "\t<tr><th scope=row>3</th><td> 106</td><td>2019-02-01 17:08:01.3260</td><td>2019-02-01 17:09:47.4400</td><td>3183</td><td>Exchange Place</td><td>40.71625</td><td>-74.03346</td><td>3184</td><td>Paulus Hook     </td><td>40.71415</td><td>-74.03355</td><td>29588</td><td>Subscriber</td><td>1960</td><td>1</td></tr>\n",
       "\t<tr><th scope=row>4</th><td> 370</td><td>2019-02-01 17:09:31.2100</td><td>2019-02-01 17:15:41.6550</td><td>3183</td><td>Exchange Place</td><td>40.71625</td><td>-74.03346</td><td>3211</td><td>Newark Ave      </td><td>40.72153</td><td>-74.04630</td><td>29250</td><td>Subscriber</td><td>1976</td><td>1</td></tr>\n",
       "\t<tr><th scope=row>5</th><td> 315</td><td>2019-02-01 17:19:53.2490</td><td>2019-02-01 17:25:09.1400</td><td>3183</td><td>Exchange Place</td><td>40.71625</td><td>-74.03346</td><td>3273</td><td><span style=white-space:pre-wrap>Manila &amp; 1st    </span></td><td>40.72165</td><td>-74.04288</td><td>29586</td><td>Subscriber</td><td>1980</td><td>1</td></tr>\n",
       "\t<tr><th scope=row>6</th><td> 145</td><td>2019-02-01 17:32:53.2630</td><td>2019-02-01 17:35:18.7510</td><td>3183</td><td>Exchange Place</td><td>40.71625</td><td>-74.03346</td><td>3214</td><td>Essex Light Rail</td><td>40.71277</td><td>-74.03649</td><td>26153</td><td>Subscriber</td><td>1984</td><td>1</td></tr>\n",
       "\t<tr><th scope=row>7</th><td>1625</td><td>2019-02-01 17:39:55.5390</td><td>2019-02-01 18:07:01.2660</td><td>3183</td><td>Exchange Place</td><td>40.71625</td><td>-74.03346</td><td>3186</td><td>Grove St PATH   </td><td>40.71959</td><td>-74.04312</td><td>29242</td><td>Subscriber</td><td>1993</td><td>1</td></tr>\n",
       "\t<tr><th scope=row>8</th><td> 485</td><td>2019-02-01 17:46:32.7540</td><td>2019-02-01 17:54:37.9890</td><td>3183</td><td>Exchange Place</td><td>40.71625</td><td>-74.03346</td><td>3186</td><td>Grove St PATH   </td><td>40.71959</td><td>-74.04312</td><td>29496</td><td>Subscriber</td><td>1970</td><td>1</td></tr>\n",
       "\t<tr><th scope=row>9</th><td> 632</td><td>2019-02-01 18:05:26.8150</td><td>2019-02-01 18:15:59.1050</td><td>3183</td><td>Exchange Place</td><td>40.71625</td><td>-74.03346</td><td>3278</td><td>Monmouth and 6th</td><td>40.72569</td><td>-74.04879</td><td>26307</td><td>Customer  </td><td>1981</td><td>1</td></tr>\n",
       "\t<tr><th scope=row>10</th><td> 235</td><td>2019-02-01 18:11:06.8410</td><td>2019-02-01 18:15:02.7810</td><td>3183</td><td>Exchange Place</td><td>40.71625</td><td>-74.03346</td><td>3681</td><td>Grand St        </td><td>40.71518</td><td>-74.03768</td><td>26293</td><td>Subscriber</td><td>1982</td><td>1</td></tr>\n",
       "\t<tr><th scope=row>11</th><td> 306</td><td>2019-02-01 18:11:59.4700</td><td>2019-02-01 18:17:06.1050</td><td>3183</td><td>Exchange Place</td><td>40.71625</td><td>-74.03346</td><td>3481</td><td>York St         </td><td>40.71649</td><td>-74.04105</td><td>26242</td><td>Subscriber</td><td>1980</td><td>1</td></tr>\n",
       "\t<tr><th scope=row>12</th><td> 763</td><td>2019-02-01 18:33:33.0410</td><td>2019-02-01 18:46:16.9620</td><td>3183</td><td>Exchange Place</td><td>40.71625</td><td>-74.03346</td><td>3269</td><td>Brunswick &amp; 6th </td><td>40.72601</td><td>-74.05039</td><td>26252</td><td>Subscriber</td><td>1958</td><td>1</td></tr>\n",
       "\t<tr><th scope=row>13</th><td> 232</td><td>2019-02-01 18:45:31.6110</td><td>2019-02-01 18:49:23.7990</td><td>3183</td><td>Exchange Place</td><td>40.71625</td><td>-74.03346</td><td>3187</td><td>Warren St       </td><td>40.72112</td><td>-74.03805</td><td>26306</td><td>Subscriber</td><td>1972</td><td>1</td></tr>\n",
       "\t<tr><th scope=row>14</th><td> 242</td><td>2019-02-01 19:13:07.7710</td><td>2019-02-01 19:17:10.1560</td><td>3183</td><td>Exchange Place</td><td>40.71625</td><td>-74.03346</td><td>3267</td><td>Morris Canal    </td><td>40.71242</td><td>-74.03853</td><td>29546</td><td>Subscriber</td><td>1989</td><td>2</td></tr>\n",
       "\t<tr><th scope=row>15</th><td> 150</td><td>2019-02-01 19:20:23.3150</td><td>2019-02-01 19:22:53.9000</td><td>3183</td><td>Exchange Place</td><td>40.71625</td><td>-74.03346</td><td>3214</td><td>Essex Light Rail</td><td>40.71277</td><td>-74.03649</td><td>29307</td><td>Subscriber</td><td>1987</td><td>1</td></tr>\n",
       "\t<tr><th scope=row>16</th><td> 432</td><td>2019-02-01 19:39:26.2080</td><td>2019-02-01 19:46:38.9500</td><td>3183</td><td>Exchange Place</td><td>40.71625</td><td>-74.03346</td><td>3202</td><td>Newport PATH    </td><td>40.72722</td><td>-74.03376</td><td>29227</td><td>Subscriber</td><td>1991</td><td>1</td></tr>\n",
       "\t<tr><th scope=row>17</th><td> 329</td><td>2019-02-01 20:01:43.2900</td><td>2019-02-01 20:07:12.2930</td><td>3183</td><td>Exchange Place</td><td>40.71625</td><td>-74.03346</td><td>3481</td><td>York St         </td><td>40.71649</td><td>-74.04105</td><td>29440</td><td>Subscriber</td><td>1968</td><td>2</td></tr>\n",
       "\t<tr><th scope=row>18</th><td> 963</td><td>2019-02-01 21:57:59.4260</td><td>2019-02-01 22:14:03.0320</td><td>3183</td><td>Exchange Place</td><td>40.71625</td><td>-74.03346</td><td>3212</td><td>Christ Hospital </td><td>40.73479</td><td>-74.05044</td><td>29302</td><td>Subscriber</td><td>1988</td><td>1</td></tr>\n",
       "\t<tr><th scope=row>19</th><td> 284</td><td>2019-02-01 22:09:08.6670</td><td>2019-02-01 22:13:53.0770</td><td>3183</td><td>Exchange Place</td><td>40.71625</td><td>-74.03346</td><td>3267</td><td>Morris Canal    </td><td>40.71242</td><td>-74.03853</td><td>26167</td><td>Subscriber</td><td>1974</td><td>1</td></tr>\n",
       "\t<tr><th scope=row>20</th><td> 110</td><td>2019-02-01 22:20:11.9820</td><td>2019-02-01 22:22:02.5730</td><td>3183</td><td>Exchange Place</td><td>40.71625</td><td>-74.03346</td><td>3639</td><td>Harborside      </td><td>40.71925</td><td>-74.03423</td><td>29548</td><td>Subscriber</td><td>1989</td><td>1</td></tr>\n",
       "\t<tr><th scope=row>21</th><td> 219</td><td>2019-02-02 16:42:34.0160</td><td>2019-02-02 16:46:13.2730</td><td>3183</td><td>Exchange Place</td><td>40.71625</td><td>-74.03346</td><td>3267</td><td>Morris Canal    </td><td>40.71242</td><td>-74.03853</td><td>26238</td><td>Subscriber</td><td>1994</td><td>2</td></tr>\n",
       "\t<tr><th scope=row>22</th><td>  79</td><td>2019-02-03 08:35:43.1000</td><td>2019-02-03 08:37:02.7110</td><td>3183</td><td>Exchange Place</td><td>40.71625</td><td>-74.03346</td><td>3639</td><td>Harborside      </td><td>40.71925</td><td>-74.03423</td><td>26265</td><td>Subscriber</td><td>1990</td><td>1</td></tr>\n",
       "\t<tr><th scope=row>23</th><td>1196</td><td>2019-02-03 13:53:54.9220</td><td>2019-02-03 14:13:51.6910</td><td>3183</td><td>Exchange Place</td><td>40.71625</td><td>-74.03346</td><td>3267</td><td>Morris Canal    </td><td>40.71242</td><td>-74.03853</td><td>26159</td><td>Subscriber</td><td>1961</td><td>1</td></tr>\n",
       "\t<tr><th scope=row>24</th><td> 541</td><td>2019-02-03 14:05:46.6380</td><td>2019-02-03 14:14:47.7130</td><td>3183</td><td>Exchange Place</td><td>40.71625</td><td>-74.03346</td><td>3203</td><td>Hamilton Park   </td><td>40.72760</td><td>-74.04425</td><td>33609</td><td>Subscriber</td><td>1974</td><td>1</td></tr>\n",
       "\t<tr><th scope=row>25</th><td> 821</td><td>2019-02-03 14:45:03.2880</td><td>2019-02-03 14:58:45.0290</td><td>3183</td><td>Exchange Place</td><td>40.71625</td><td>-74.03346</td><td>3279</td><td>Dixon Mills     </td><td>40.72163</td><td>-74.04997</td><td>26264</td><td>Subscriber</td><td>1976</td><td>1</td></tr>\n",
       "\t<tr><th scope=row>26</th><td>1497</td><td>2019-02-03 15:12:06.8830</td><td>2019-02-03 15:37:04.7000</td><td>3183</td><td>Exchange Place</td><td>40.71625</td><td>-74.03346</td><td>3206</td><td>Hilltop         </td><td>40.73117</td><td>-74.05757</td><td>29204</td><td>Subscriber</td><td>1986</td><td>1</td></tr>\n",
       "\t<tr><th scope=row>27</th><td>1027</td><td>2019-02-03 15:20:59.4450</td><td>2019-02-03 15:38:06.8200</td><td>3183</td><td>Exchange Place</td><td>40.71625</td><td>-74.03346</td><td>3194</td><td>McGinley Square </td><td>40.72534</td><td>-74.06762</td><td>29504</td><td>Subscriber</td><td>1973</td><td>2</td></tr>\n",
       "\t<tr><th scope=row>28</th><td> 888</td><td>2019-02-03 15:27:31.9340</td><td>2019-02-03 15:42:20.2670</td><td>3183</td><td>Exchange Place</td><td>40.71625</td><td>-74.03346</td><td>3267</td><td>Morris Canal    </td><td>40.71242</td><td>-74.03853</td><td>26189</td><td>Subscriber</td><td>1980</td><td>2</td></tr>\n",
       "\t<tr><th scope=row>29</th><td> 566</td><td>2019-02-03 15:56:00.8510</td><td>2019-02-03 16:05:27.6320</td><td>3183</td><td>Exchange Place</td><td>40.71625</td><td>-74.03346</td><td>3279</td><td>Dixon Mills     </td><td>40.72163</td><td>-74.04997</td><td>29215</td><td>Subscriber</td><td>1981</td><td>2</td></tr>\n",
       "\t<tr><th scope=row>30</th><td> 554</td><td>2019-02-03 16:42:13.2000</td><td>2019-02-03 16:51:27.7270</td><td>3183</td><td>Exchange Place</td><td>40.71625</td><td>-74.03346</td><td>3269</td><td>Brunswick &amp; 6th </td><td>40.72601</td><td>-74.05039</td><td>29595</td><td>Subscriber</td><td>1958</td><td>1</td></tr>\n",
       "\t<tr><th scope=row>⋮</th><td>⋮</td><td>⋮</td><td>⋮</td><td>⋮</td><td>⋮</td><td>⋮</td><td>⋮</td><td>⋮</td><td>⋮</td><td>⋮</td><td>⋮</td><td>⋮</td><td>⋮</td><td>⋮</td><td>⋮</td></tr>\n",
       "\t<tr><th scope=row>150763</th><td> 557</td><td>2019-06-30 22:16:45.4260</td><td>2019-06-30 22:26:02.7900</td><td>3195</td><td>Sip Ave           </td><td>40.73090</td><td>-74.06391</td><td>3679</td><td>Bergen Ave             </td><td>40.72210</td><td>-74.07146</td><td>29452</td><td>Customer  </td><td>1989</td><td>2</td></tr>\n",
       "\t<tr><th scope=row>150764</th><td> 307</td><td>2019-06-30 22:19:47.5250</td><td>2019-06-30 22:24:55.2040</td><td>3186</td><td>Grove St PATH     </td><td>40.71959</td><td>-74.04312</td><td>3278</td><td>Monmouth and 6th       </td><td>40.72569</td><td>-74.04879</td><td>29251</td><td>Customer  </td><td>1969</td><td>0</td></tr>\n",
       "\t<tr><th scope=row>150765</th><td>  62</td><td>2019-06-30 22:21:29.4560</td><td>2019-06-30 22:22:31.4720</td><td>3185</td><td>City Hall         </td><td>40.71773</td><td>-74.04385</td><td>3186</td><td>Grove St PATH          </td><td>40.71959</td><td>-74.04312</td><td>26170</td><td>Subscriber</td><td>1982</td><td>1</td></tr>\n",
       "\t<tr><th scope=row>150766</th><td> 392</td><td>2019-06-30 22:22:59.9100</td><td>2019-06-30 22:29:32.7860</td><td>3193</td><td>Lincoln Park      </td><td>40.72461</td><td>-74.07841</td><td>3195</td><td>Sip Ave                </td><td>40.73090</td><td>-74.06391</td><td>26209</td><td>Subscriber</td><td>1983</td><td>1</td></tr>\n",
       "\t<tr><th scope=row>150767</th><td> 645</td><td>2019-06-30 22:24:19.2920</td><td>2019-06-30 22:35:05.0900</td><td>3186</td><td>Grove St PATH     </td><td>40.71959</td><td>-74.04312</td><td>3192</td><td>Liberty Light Rail     </td><td>40.71124</td><td>-74.05570</td><td>26170</td><td>Subscriber</td><td>1978</td><td>1</td></tr>\n",
       "\t<tr><th scope=row>150768</th><td> 655</td><td>2019-06-30 22:25:45.7800</td><td>2019-06-30 22:36:40.8890</td><td>3199</td><td>Newport Pkwy      </td><td>40.72874</td><td>-74.03211</td><td>3214</td><td>Essex Light Rail       </td><td>40.71277</td><td>-74.03649</td><td>26293</td><td>Subscriber</td><td>1992</td><td>1</td></tr>\n",
       "\t<tr><th scope=row>150769</th><td> 598</td><td>2019-06-30 22:26:15.3500</td><td>2019-06-30 22:36:13.6740</td><td>3184</td><td>Paulus Hook       </td><td>40.71415</td><td>-74.03355</td><td>3279</td><td>Dixon Mills            </td><td>40.72163</td><td>-74.04997</td><td>29600</td><td>Subscriber</td><td>1981</td><td>1</td></tr>\n",
       "\t<tr><th scope=row>150770</th><td> 675</td><td>2019-06-30 22:26:28.1950</td><td>2019-06-30 22:37:43.9740</td><td>3199</td><td>Newport Pkwy      </td><td>40.72874</td><td>-74.03211</td><td>3214</td><td>Essex Light Rail       </td><td>40.71277</td><td>-74.03649</td><td>29268</td><td>Subscriber</td><td>1986</td><td>1</td></tr>\n",
       "\t<tr><th scope=row>150771</th><td>3724</td><td>2019-06-30 22:28:08.9520</td><td>2019-06-30 23:30:13.1390</td><td>3679</td><td>Bergen Ave        </td><td>40.72210</td><td>-74.07146</td><td>3679</td><td>Bergen Ave             </td><td>40.72210</td><td>-74.07146</td><td>29612</td><td>Customer  </td><td>2002</td><td>2</td></tr>\n",
       "\t<tr><th scope=row>150772</th><td>3713</td><td>2019-06-30 22:28:23.3150</td><td>2019-06-30 23:30:16.6700</td><td>3679</td><td>Bergen Ave        </td><td>40.72210</td><td>-74.07146</td><td>3679</td><td>Bergen Ave             </td><td>40.72210</td><td>-74.07146</td><td>29241</td><td>Customer  </td><td>2001</td><td>1</td></tr>\n",
       "\t<tr><th scope=row>150773</th><td>3695</td><td>2019-06-30 22:28:34.8260</td><td>2019-06-30 23:30:10.5400</td><td>3679</td><td>Bergen Ave        </td><td>40.72210</td><td>-74.07146</td><td>3679</td><td>Bergen Ave             </td><td>40.72210</td><td>-74.07146</td><td>29452</td><td>Customer  </td><td>2000</td><td>1</td></tr>\n",
       "\t<tr><th scope=row>150774</th><td> 286</td><td>2019-06-30 22:45:36.1750</td><td>2019-06-30 22:50:22.5220</td><td>3211</td><td>Newark Ave        </td><td>40.72153</td><td>-74.04630</td><td>3209</td><td>Brunswick St           </td><td>40.72418</td><td>-74.05066</td><td>29672</td><td>Customer  </td><td>1989</td><td>1</td></tr>\n",
       "\t<tr><th scope=row>150775</th><td> 243</td><td>2019-06-30 22:46:23.0550</td><td>2019-06-30 22:50:26.4640</td><td>3211</td><td>Newark Ave        </td><td>40.72153</td><td>-74.04630</td><td>3209</td><td>Brunswick St           </td><td>40.72418</td><td>-74.05066</td><td>29306</td><td>Customer  </td><td>1993</td><td>1</td></tr>\n",
       "\t<tr><th scope=row>150776</th><td> 385</td><td>2019-06-30 22:46:29.3450</td><td>2019-06-30 22:52:55.3050</td><td>3202</td><td>Newport PATH      </td><td>40.72722</td><td>-74.03376</td><td>3203</td><td>Hamilton Park          </td><td>40.72760</td><td>-74.04425</td><td>26317</td><td>Subscriber</td><td>1991</td><td>1</td></tr>\n",
       "\t<tr><th scope=row>150777</th><td> 333</td><td>2019-06-30 22:48:08.8390</td><td>2019-06-30 22:53:42.0470</td><td>3192</td><td>Liberty Light Rail</td><td>40.71124</td><td>-74.05570</td><td>3277</td><td>Communipaw &amp; Berry Lane</td><td>40.71436</td><td>-74.06661</td><td>26261</td><td><span style=white-space:pre-wrap>Customer  </span></td><td>1986</td><td>1</td></tr>\n",
       "\t<tr><th scope=row>150778</th><td> 187</td><td>2019-06-30 22:55:39.2800</td><td>2019-06-30 22:58:46.3540</td><td>3211</td><td><span style=white-space:pre-wrap>Newark Ave        </span></td><td>40.72153</td><td>-74.04630</td><td>3269</td><td><span style=white-space:pre-wrap>Brunswick &amp; 6th        </span></td><td>40.72601</td><td>-74.05039</td><td>26302</td><td>Subscriber</td><td>1977</td><td>1</td></tr>\n",
       "\t<tr><th scope=row>150779</th><td> 336</td><td>2019-06-30 22:57:20.5170</td><td>2019-06-30 23:02:56.5360</td><td>3211</td><td>Newark Ave        </td><td>40.72153</td><td>-74.04630</td><td>3205</td><td>JC Medical Center      </td><td>40.71654</td><td>-74.04964</td><td>29503</td><td>Customer  </td><td>1995</td><td>1</td></tr>\n",
       "\t<tr><th scope=row>150780</th><td> 306</td><td>2019-06-30 23:16:06.0000</td><td>2019-06-30 23:21:12.8640</td><td>3279</td><td>Dixon Mills       </td><td>40.72163</td><td>-74.04997</td><td>3279</td><td>Dixon Mills            </td><td>40.72163</td><td>-74.04997</td><td>29447</td><td>Subscriber</td><td>1984</td><td>1</td></tr>\n",
       "\t<tr><th scope=row>150781</th><td> 305</td><td>2019-06-30 23:17:59.1420</td><td>2019-06-30 23:23:04.6360</td><td>3195</td><td>Sip Ave           </td><td>40.73090</td><td>-74.06391</td><td>3678</td><td>Fairmount Ave          </td><td>40.72573</td><td>-74.07196</td><td>26209</td><td>Subscriber</td><td>1988</td><td>1</td></tr>\n",
       "\t<tr><th scope=row>150782</th><td> 141</td><td>2019-06-30 23:21:36.1290</td><td>2019-06-30 23:23:57.8710</td><td>3279</td><td>Dixon Mills       </td><td>40.72163</td><td>-74.04997</td><td>3186</td><td>Grove St PATH          </td><td>40.71959</td><td>-74.04312</td><td>29265</td><td>Subscriber</td><td>1989</td><td>1</td></tr>\n",
       "\t<tr><th scope=row>150783</th><td> 586</td><td>2019-06-30 23:25:13.1970</td><td>2019-06-30 23:35:00.0580</td><td>3192</td><td>Liberty Light Rail</td><td>40.71124</td><td>-74.05570</td><td>3280</td><td>Astor Place            </td><td>40.71928</td><td>-74.07126</td><td>29618</td><td>Subscriber</td><td>1979</td><td>1</td></tr>\n",
       "\t<tr><th scope=row>150784</th><td> 324</td><td>2019-06-30 23:26:49.4090</td><td>2019-06-30 23:32:13.9470</td><td>3202</td><td>Newport PATH      </td><td>40.72722</td><td>-74.03376</td><td>3203</td><td>Hamilton Park          </td><td>40.72760</td><td>-74.04425</td><td>29465</td><td>Subscriber</td><td>1974</td><td>1</td></tr>\n",
       "\t<tr><th scope=row>150785</th><td> 395</td><td>2019-06-30 23:37:49.4750</td><td>2019-06-30 23:44:24.5350</td><td>3279</td><td>Dixon Mills       </td><td>40.72163</td><td>-74.04997</td><td>3279</td><td>Dixon Mills            </td><td>40.72163</td><td>-74.04997</td><td>29447</td><td>Subscriber</td><td>1973</td><td>1</td></tr>\n",
       "\t<tr><th scope=row>150786</th><td> 654</td><td>2019-06-30 23:38:21.5840</td><td>2019-06-30 23:49:15.8860</td><td>3677</td><td>Glenwood Ave      </td><td>40.72755</td><td>-74.07106</td><td>3191</td><td>Union St               </td><td>40.71821</td><td>-74.08364</td><td>26152</td><td>Customer  </td><td>1969</td><td>0</td></tr>\n",
       "\t<tr><th scope=row>150787</th><td> 654</td><td>2019-06-30 23:38:22.9500</td><td>2019-06-30 23:49:17.9290</td><td>3677</td><td>Glenwood Ave      </td><td>40.72755</td><td>-74.07106</td><td>3191</td><td>Union St               </td><td>40.71821</td><td>-74.08364</td><td>26310</td><td>Customer  </td><td>1990</td><td>2</td></tr>\n",
       "\t<tr><th scope=row>150788</th><td> 639</td><td>2019-06-30 23:38:29.5450</td><td>2019-06-30 23:49:09.2110</td><td>3677</td><td>Glenwood Ave      </td><td>40.72755</td><td>-74.07106</td><td>3191</td><td>Union St               </td><td>40.71821</td><td>-74.08364</td><td>29197</td><td>Customer  </td><td>1986</td><td>1</td></tr>\n",
       "\t<tr><th scope=row>150789</th><td> 643</td><td>2019-06-30 23:38:34.9100</td><td>2019-06-30 23:49:17.9690</td><td>3677</td><td>Glenwood Ave      </td><td>40.72755</td><td>-74.07106</td><td>3191</td><td>Union St               </td><td>40.71821</td><td>-74.08364</td><td>26262</td><td>Customer  </td><td>1990</td><td>2</td></tr>\n",
       "\t<tr><th scope=row>150790</th><td> 418</td><td>2019-06-30 23:42:30.9400</td><td>2019-06-30 23:49:29.5360</td><td>3679</td><td>Bergen Ave        </td><td>40.72210</td><td>-74.07146</td><td>3191</td><td>Union St               </td><td>40.71821</td><td>-74.08364</td><td>29241</td><td>Subscriber</td><td>1979</td><td>1</td></tr>\n",
       "\t<tr><th scope=row>150791</th><td>2529</td><td>2019-06-30 23:46:17.5700</td><td>2019-07-01 00:28:27.1710</td><td>3185</td><td>City Hall         </td><td>40.71773</td><td>-74.04385</td><td>3213</td><td>Van Vorst Park         </td><td>40.71849</td><td>-74.04773</td><td>26254</td><td>Subscriber</td><td>1982</td><td>1</td></tr>\n",
       "\t<tr><th scope=row>150792</th><td> 831</td><td>2019-06-30 23:49:01.6830</td><td>2019-07-01 00:02:53.1150</td><td>3210</td><td>Pershing Field    </td><td>40.74268</td><td>-74.05179</td><td>3186</td><td>Grove St PATH          </td><td>40.71959</td><td>-74.04312</td><td>29551</td><td>Subscriber</td><td>1988</td><td>1</td></tr>\n",
       "</tbody>\n",
       "</table>\n"
      ],
      "text/latex": [
       "A data.frame: 150792 × 15\n",
       "\\begin{tabular}{r|lllllllllllllll}\n",
       "  & tripduration & starttime & stoptime & start.station.id & start.station.name & start.station.latitude & start.station.longitude & end.station.id & end.station.name & end.station.latitude & end.station.longitude & bikeid & usertype & birth.year & gender\\\\\n",
       "  & <int> & <chr> & <chr> & <int> & <chr> & <dbl> & <dbl> & <int> & <chr> & <dbl> & <dbl> & <int> & <chr> & <int> & <int>\\\\\n",
       "\\hline\n",
       "\t1 &  142 & 2019-02-01 15:35:02.0820 & 2019-02-01 15:37:24.1360 & 3183 & Exchange Place & 40.71625 & -74.03346 & 3639 & Harborside       & 40.71925 & -74.03423 & 29677 & Subscriber & 1963 & 1\\\\\n",
       "\t2 &  223 & 2019-02-01 17:00:46.8900 & 2019-02-01 17:04:30.5500 & 3183 & Exchange Place & 40.71625 & -74.03346 & 3681 & Grand St         & 40.71518 & -74.03768 & 26234 & Subscriber & 1992 & 2\\\\\n",
       "\t3 &  106 & 2019-02-01 17:08:01.3260 & 2019-02-01 17:09:47.4400 & 3183 & Exchange Place & 40.71625 & -74.03346 & 3184 & Paulus Hook      & 40.71415 & -74.03355 & 29588 & Subscriber & 1960 & 1\\\\\n",
       "\t4 &  370 & 2019-02-01 17:09:31.2100 & 2019-02-01 17:15:41.6550 & 3183 & Exchange Place & 40.71625 & -74.03346 & 3211 & Newark Ave       & 40.72153 & -74.04630 & 29250 & Subscriber & 1976 & 1\\\\\n",
       "\t5 &  315 & 2019-02-01 17:19:53.2490 & 2019-02-01 17:25:09.1400 & 3183 & Exchange Place & 40.71625 & -74.03346 & 3273 & Manila \\& 1st     & 40.72165 & -74.04288 & 29586 & Subscriber & 1980 & 1\\\\\n",
       "\t6 &  145 & 2019-02-01 17:32:53.2630 & 2019-02-01 17:35:18.7510 & 3183 & Exchange Place & 40.71625 & -74.03346 & 3214 & Essex Light Rail & 40.71277 & -74.03649 & 26153 & Subscriber & 1984 & 1\\\\\n",
       "\t7 & 1625 & 2019-02-01 17:39:55.5390 & 2019-02-01 18:07:01.2660 & 3183 & Exchange Place & 40.71625 & -74.03346 & 3186 & Grove St PATH    & 40.71959 & -74.04312 & 29242 & Subscriber & 1993 & 1\\\\\n",
       "\t8 &  485 & 2019-02-01 17:46:32.7540 & 2019-02-01 17:54:37.9890 & 3183 & Exchange Place & 40.71625 & -74.03346 & 3186 & Grove St PATH    & 40.71959 & -74.04312 & 29496 & Subscriber & 1970 & 1\\\\\n",
       "\t9 &  632 & 2019-02-01 18:05:26.8150 & 2019-02-01 18:15:59.1050 & 3183 & Exchange Place & 40.71625 & -74.03346 & 3278 & Monmouth and 6th & 40.72569 & -74.04879 & 26307 & Customer   & 1981 & 1\\\\\n",
       "\t10 &  235 & 2019-02-01 18:11:06.8410 & 2019-02-01 18:15:02.7810 & 3183 & Exchange Place & 40.71625 & -74.03346 & 3681 & Grand St         & 40.71518 & -74.03768 & 26293 & Subscriber & 1982 & 1\\\\\n",
       "\t11 &  306 & 2019-02-01 18:11:59.4700 & 2019-02-01 18:17:06.1050 & 3183 & Exchange Place & 40.71625 & -74.03346 & 3481 & York St          & 40.71649 & -74.04105 & 26242 & Subscriber & 1980 & 1\\\\\n",
       "\t12 &  763 & 2019-02-01 18:33:33.0410 & 2019-02-01 18:46:16.9620 & 3183 & Exchange Place & 40.71625 & -74.03346 & 3269 & Brunswick \\& 6th  & 40.72601 & -74.05039 & 26252 & Subscriber & 1958 & 1\\\\\n",
       "\t13 &  232 & 2019-02-01 18:45:31.6110 & 2019-02-01 18:49:23.7990 & 3183 & Exchange Place & 40.71625 & -74.03346 & 3187 & Warren St        & 40.72112 & -74.03805 & 26306 & Subscriber & 1972 & 1\\\\\n",
       "\t14 &  242 & 2019-02-01 19:13:07.7710 & 2019-02-01 19:17:10.1560 & 3183 & Exchange Place & 40.71625 & -74.03346 & 3267 & Morris Canal     & 40.71242 & -74.03853 & 29546 & Subscriber & 1989 & 2\\\\\n",
       "\t15 &  150 & 2019-02-01 19:20:23.3150 & 2019-02-01 19:22:53.9000 & 3183 & Exchange Place & 40.71625 & -74.03346 & 3214 & Essex Light Rail & 40.71277 & -74.03649 & 29307 & Subscriber & 1987 & 1\\\\\n",
       "\t16 &  432 & 2019-02-01 19:39:26.2080 & 2019-02-01 19:46:38.9500 & 3183 & Exchange Place & 40.71625 & -74.03346 & 3202 & Newport PATH     & 40.72722 & -74.03376 & 29227 & Subscriber & 1991 & 1\\\\\n",
       "\t17 &  329 & 2019-02-01 20:01:43.2900 & 2019-02-01 20:07:12.2930 & 3183 & Exchange Place & 40.71625 & -74.03346 & 3481 & York St          & 40.71649 & -74.04105 & 29440 & Subscriber & 1968 & 2\\\\\n",
       "\t18 &  963 & 2019-02-01 21:57:59.4260 & 2019-02-01 22:14:03.0320 & 3183 & Exchange Place & 40.71625 & -74.03346 & 3212 & Christ Hospital  & 40.73479 & -74.05044 & 29302 & Subscriber & 1988 & 1\\\\\n",
       "\t19 &  284 & 2019-02-01 22:09:08.6670 & 2019-02-01 22:13:53.0770 & 3183 & Exchange Place & 40.71625 & -74.03346 & 3267 & Morris Canal     & 40.71242 & -74.03853 & 26167 & Subscriber & 1974 & 1\\\\\n",
       "\t20 &  110 & 2019-02-01 22:20:11.9820 & 2019-02-01 22:22:02.5730 & 3183 & Exchange Place & 40.71625 & -74.03346 & 3639 & Harborside       & 40.71925 & -74.03423 & 29548 & Subscriber & 1989 & 1\\\\\n",
       "\t21 &  219 & 2019-02-02 16:42:34.0160 & 2019-02-02 16:46:13.2730 & 3183 & Exchange Place & 40.71625 & -74.03346 & 3267 & Morris Canal     & 40.71242 & -74.03853 & 26238 & Subscriber & 1994 & 2\\\\\n",
       "\t22 &   79 & 2019-02-03 08:35:43.1000 & 2019-02-03 08:37:02.7110 & 3183 & Exchange Place & 40.71625 & -74.03346 & 3639 & Harborside       & 40.71925 & -74.03423 & 26265 & Subscriber & 1990 & 1\\\\\n",
       "\t23 & 1196 & 2019-02-03 13:53:54.9220 & 2019-02-03 14:13:51.6910 & 3183 & Exchange Place & 40.71625 & -74.03346 & 3267 & Morris Canal     & 40.71242 & -74.03853 & 26159 & Subscriber & 1961 & 1\\\\\n",
       "\t24 &  541 & 2019-02-03 14:05:46.6380 & 2019-02-03 14:14:47.7130 & 3183 & Exchange Place & 40.71625 & -74.03346 & 3203 & Hamilton Park    & 40.72760 & -74.04425 & 33609 & Subscriber & 1974 & 1\\\\\n",
       "\t25 &  821 & 2019-02-03 14:45:03.2880 & 2019-02-03 14:58:45.0290 & 3183 & Exchange Place & 40.71625 & -74.03346 & 3279 & Dixon Mills      & 40.72163 & -74.04997 & 26264 & Subscriber & 1976 & 1\\\\\n",
       "\t26 & 1497 & 2019-02-03 15:12:06.8830 & 2019-02-03 15:37:04.7000 & 3183 & Exchange Place & 40.71625 & -74.03346 & 3206 & Hilltop          & 40.73117 & -74.05757 & 29204 & Subscriber & 1986 & 1\\\\\n",
       "\t27 & 1027 & 2019-02-03 15:20:59.4450 & 2019-02-03 15:38:06.8200 & 3183 & Exchange Place & 40.71625 & -74.03346 & 3194 & McGinley Square  & 40.72534 & -74.06762 & 29504 & Subscriber & 1973 & 2\\\\\n",
       "\t28 &  888 & 2019-02-03 15:27:31.9340 & 2019-02-03 15:42:20.2670 & 3183 & Exchange Place & 40.71625 & -74.03346 & 3267 & Morris Canal     & 40.71242 & -74.03853 & 26189 & Subscriber & 1980 & 2\\\\\n",
       "\t29 &  566 & 2019-02-03 15:56:00.8510 & 2019-02-03 16:05:27.6320 & 3183 & Exchange Place & 40.71625 & -74.03346 & 3279 & Dixon Mills      & 40.72163 & -74.04997 & 29215 & Subscriber & 1981 & 2\\\\\n",
       "\t30 &  554 & 2019-02-03 16:42:13.2000 & 2019-02-03 16:51:27.7270 & 3183 & Exchange Place & 40.71625 & -74.03346 & 3269 & Brunswick \\& 6th  & 40.72601 & -74.05039 & 29595 & Subscriber & 1958 & 1\\\\\n",
       "\t⋮ & ⋮ & ⋮ & ⋮ & ⋮ & ⋮ & ⋮ & ⋮ & ⋮ & ⋮ & ⋮ & ⋮ & ⋮ & ⋮ & ⋮ & ⋮\\\\\n",
       "\t150763 &  557 & 2019-06-30 22:16:45.4260 & 2019-06-30 22:26:02.7900 & 3195 & Sip Ave            & 40.73090 & -74.06391 & 3679 & Bergen Ave              & 40.72210 & -74.07146 & 29452 & Customer   & 1989 & 2\\\\\n",
       "\t150764 &  307 & 2019-06-30 22:19:47.5250 & 2019-06-30 22:24:55.2040 & 3186 & Grove St PATH      & 40.71959 & -74.04312 & 3278 & Monmouth and 6th        & 40.72569 & -74.04879 & 29251 & Customer   & 1969 & 0\\\\\n",
       "\t150765 &   62 & 2019-06-30 22:21:29.4560 & 2019-06-30 22:22:31.4720 & 3185 & City Hall          & 40.71773 & -74.04385 & 3186 & Grove St PATH           & 40.71959 & -74.04312 & 26170 & Subscriber & 1982 & 1\\\\\n",
       "\t150766 &  392 & 2019-06-30 22:22:59.9100 & 2019-06-30 22:29:32.7860 & 3193 & Lincoln Park       & 40.72461 & -74.07841 & 3195 & Sip Ave                 & 40.73090 & -74.06391 & 26209 & Subscriber & 1983 & 1\\\\\n",
       "\t150767 &  645 & 2019-06-30 22:24:19.2920 & 2019-06-30 22:35:05.0900 & 3186 & Grove St PATH      & 40.71959 & -74.04312 & 3192 & Liberty Light Rail      & 40.71124 & -74.05570 & 26170 & Subscriber & 1978 & 1\\\\\n",
       "\t150768 &  655 & 2019-06-30 22:25:45.7800 & 2019-06-30 22:36:40.8890 & 3199 & Newport Pkwy       & 40.72874 & -74.03211 & 3214 & Essex Light Rail        & 40.71277 & -74.03649 & 26293 & Subscriber & 1992 & 1\\\\\n",
       "\t150769 &  598 & 2019-06-30 22:26:15.3500 & 2019-06-30 22:36:13.6740 & 3184 & Paulus Hook        & 40.71415 & -74.03355 & 3279 & Dixon Mills             & 40.72163 & -74.04997 & 29600 & Subscriber & 1981 & 1\\\\\n",
       "\t150770 &  675 & 2019-06-30 22:26:28.1950 & 2019-06-30 22:37:43.9740 & 3199 & Newport Pkwy       & 40.72874 & -74.03211 & 3214 & Essex Light Rail        & 40.71277 & -74.03649 & 29268 & Subscriber & 1986 & 1\\\\\n",
       "\t150771 & 3724 & 2019-06-30 22:28:08.9520 & 2019-06-30 23:30:13.1390 & 3679 & Bergen Ave         & 40.72210 & -74.07146 & 3679 & Bergen Ave              & 40.72210 & -74.07146 & 29612 & Customer   & 2002 & 2\\\\\n",
       "\t150772 & 3713 & 2019-06-30 22:28:23.3150 & 2019-06-30 23:30:16.6700 & 3679 & Bergen Ave         & 40.72210 & -74.07146 & 3679 & Bergen Ave              & 40.72210 & -74.07146 & 29241 & Customer   & 2001 & 1\\\\\n",
       "\t150773 & 3695 & 2019-06-30 22:28:34.8260 & 2019-06-30 23:30:10.5400 & 3679 & Bergen Ave         & 40.72210 & -74.07146 & 3679 & Bergen Ave              & 40.72210 & -74.07146 & 29452 & Customer   & 2000 & 1\\\\\n",
       "\t150774 &  286 & 2019-06-30 22:45:36.1750 & 2019-06-30 22:50:22.5220 & 3211 & Newark Ave         & 40.72153 & -74.04630 & 3209 & Brunswick St            & 40.72418 & -74.05066 & 29672 & Customer   & 1989 & 1\\\\\n",
       "\t150775 &  243 & 2019-06-30 22:46:23.0550 & 2019-06-30 22:50:26.4640 & 3211 & Newark Ave         & 40.72153 & -74.04630 & 3209 & Brunswick St            & 40.72418 & -74.05066 & 29306 & Customer   & 1993 & 1\\\\\n",
       "\t150776 &  385 & 2019-06-30 22:46:29.3450 & 2019-06-30 22:52:55.3050 & 3202 & Newport PATH       & 40.72722 & -74.03376 & 3203 & Hamilton Park           & 40.72760 & -74.04425 & 26317 & Subscriber & 1991 & 1\\\\\n",
       "\t150777 &  333 & 2019-06-30 22:48:08.8390 & 2019-06-30 22:53:42.0470 & 3192 & Liberty Light Rail & 40.71124 & -74.05570 & 3277 & Communipaw \\& Berry Lane & 40.71436 & -74.06661 & 26261 & Customer   & 1986 & 1\\\\\n",
       "\t150778 &  187 & 2019-06-30 22:55:39.2800 & 2019-06-30 22:58:46.3540 & 3211 & Newark Ave         & 40.72153 & -74.04630 & 3269 & Brunswick \\& 6th         & 40.72601 & -74.05039 & 26302 & Subscriber & 1977 & 1\\\\\n",
       "\t150779 &  336 & 2019-06-30 22:57:20.5170 & 2019-06-30 23:02:56.5360 & 3211 & Newark Ave         & 40.72153 & -74.04630 & 3205 & JC Medical Center       & 40.71654 & -74.04964 & 29503 & Customer   & 1995 & 1\\\\\n",
       "\t150780 &  306 & 2019-06-30 23:16:06.0000 & 2019-06-30 23:21:12.8640 & 3279 & Dixon Mills        & 40.72163 & -74.04997 & 3279 & Dixon Mills             & 40.72163 & -74.04997 & 29447 & Subscriber & 1984 & 1\\\\\n",
       "\t150781 &  305 & 2019-06-30 23:17:59.1420 & 2019-06-30 23:23:04.6360 & 3195 & Sip Ave            & 40.73090 & -74.06391 & 3678 & Fairmount Ave           & 40.72573 & -74.07196 & 26209 & Subscriber & 1988 & 1\\\\\n",
       "\t150782 &  141 & 2019-06-30 23:21:36.1290 & 2019-06-30 23:23:57.8710 & 3279 & Dixon Mills        & 40.72163 & -74.04997 & 3186 & Grove St PATH           & 40.71959 & -74.04312 & 29265 & Subscriber & 1989 & 1\\\\\n",
       "\t150783 &  586 & 2019-06-30 23:25:13.1970 & 2019-06-30 23:35:00.0580 & 3192 & Liberty Light Rail & 40.71124 & -74.05570 & 3280 & Astor Place             & 40.71928 & -74.07126 & 29618 & Subscriber & 1979 & 1\\\\\n",
       "\t150784 &  324 & 2019-06-30 23:26:49.4090 & 2019-06-30 23:32:13.9470 & 3202 & Newport PATH       & 40.72722 & -74.03376 & 3203 & Hamilton Park           & 40.72760 & -74.04425 & 29465 & Subscriber & 1974 & 1\\\\\n",
       "\t150785 &  395 & 2019-06-30 23:37:49.4750 & 2019-06-30 23:44:24.5350 & 3279 & Dixon Mills        & 40.72163 & -74.04997 & 3279 & Dixon Mills             & 40.72163 & -74.04997 & 29447 & Subscriber & 1973 & 1\\\\\n",
       "\t150786 &  654 & 2019-06-30 23:38:21.5840 & 2019-06-30 23:49:15.8860 & 3677 & Glenwood Ave       & 40.72755 & -74.07106 & 3191 & Union St                & 40.71821 & -74.08364 & 26152 & Customer   & 1969 & 0\\\\\n",
       "\t150787 &  654 & 2019-06-30 23:38:22.9500 & 2019-06-30 23:49:17.9290 & 3677 & Glenwood Ave       & 40.72755 & -74.07106 & 3191 & Union St                & 40.71821 & -74.08364 & 26310 & Customer   & 1990 & 2\\\\\n",
       "\t150788 &  639 & 2019-06-30 23:38:29.5450 & 2019-06-30 23:49:09.2110 & 3677 & Glenwood Ave       & 40.72755 & -74.07106 & 3191 & Union St                & 40.71821 & -74.08364 & 29197 & Customer   & 1986 & 1\\\\\n",
       "\t150789 &  643 & 2019-06-30 23:38:34.9100 & 2019-06-30 23:49:17.9690 & 3677 & Glenwood Ave       & 40.72755 & -74.07106 & 3191 & Union St                & 40.71821 & -74.08364 & 26262 & Customer   & 1990 & 2\\\\\n",
       "\t150790 &  418 & 2019-06-30 23:42:30.9400 & 2019-06-30 23:49:29.5360 & 3679 & Bergen Ave         & 40.72210 & -74.07146 & 3191 & Union St                & 40.71821 & -74.08364 & 29241 & Subscriber & 1979 & 1\\\\\n",
       "\t150791 & 2529 & 2019-06-30 23:46:17.5700 & 2019-07-01 00:28:27.1710 & 3185 & City Hall          & 40.71773 & -74.04385 & 3213 & Van Vorst Park          & 40.71849 & -74.04773 & 26254 & Subscriber & 1982 & 1\\\\\n",
       "\t150792 &  831 & 2019-06-30 23:49:01.6830 & 2019-07-01 00:02:53.1150 & 3210 & Pershing Field     & 40.74268 & -74.05179 & 3186 & Grove St PATH           & 40.71959 & -74.04312 & 29551 & Subscriber & 1988 & 1\\\\\n",
       "\\end{tabular}\n"
      ],
      "text/markdown": [
       "\n",
       "A data.frame: 150792 × 15\n",
       "\n",
       "| <!--/--> | tripduration &lt;int&gt; | starttime &lt;chr&gt; | stoptime &lt;chr&gt; | start.station.id &lt;int&gt; | start.station.name &lt;chr&gt; | start.station.latitude &lt;dbl&gt; | start.station.longitude &lt;dbl&gt; | end.station.id &lt;int&gt; | end.station.name &lt;chr&gt; | end.station.latitude &lt;dbl&gt; | end.station.longitude &lt;dbl&gt; | bikeid &lt;int&gt; | usertype &lt;chr&gt; | birth.year &lt;int&gt; | gender &lt;int&gt; |\n",
       "|---|---|---|---|---|---|---|---|---|---|---|---|---|---|---|---|\n",
       "| 1 |  142 | 2019-02-01 15:35:02.0820 | 2019-02-01 15:37:24.1360 | 3183 | Exchange Place | 40.71625 | -74.03346 | 3639 | Harborside       | 40.71925 | -74.03423 | 29677 | Subscriber | 1963 | 1 |\n",
       "| 2 |  223 | 2019-02-01 17:00:46.8900 | 2019-02-01 17:04:30.5500 | 3183 | Exchange Place | 40.71625 | -74.03346 | 3681 | Grand St         | 40.71518 | -74.03768 | 26234 | Subscriber | 1992 | 2 |\n",
       "| 3 |  106 | 2019-02-01 17:08:01.3260 | 2019-02-01 17:09:47.4400 | 3183 | Exchange Place | 40.71625 | -74.03346 | 3184 | Paulus Hook      | 40.71415 | -74.03355 | 29588 | Subscriber | 1960 | 1 |\n",
       "| 4 |  370 | 2019-02-01 17:09:31.2100 | 2019-02-01 17:15:41.6550 | 3183 | Exchange Place | 40.71625 | -74.03346 | 3211 | Newark Ave       | 40.72153 | -74.04630 | 29250 | Subscriber | 1976 | 1 |\n",
       "| 5 |  315 | 2019-02-01 17:19:53.2490 | 2019-02-01 17:25:09.1400 | 3183 | Exchange Place | 40.71625 | -74.03346 | 3273 | Manila &amp; 1st     | 40.72165 | -74.04288 | 29586 | Subscriber | 1980 | 1 |\n",
       "| 6 |  145 | 2019-02-01 17:32:53.2630 | 2019-02-01 17:35:18.7510 | 3183 | Exchange Place | 40.71625 | -74.03346 | 3214 | Essex Light Rail | 40.71277 | -74.03649 | 26153 | Subscriber | 1984 | 1 |\n",
       "| 7 | 1625 | 2019-02-01 17:39:55.5390 | 2019-02-01 18:07:01.2660 | 3183 | Exchange Place | 40.71625 | -74.03346 | 3186 | Grove St PATH    | 40.71959 | -74.04312 | 29242 | Subscriber | 1993 | 1 |\n",
       "| 8 |  485 | 2019-02-01 17:46:32.7540 | 2019-02-01 17:54:37.9890 | 3183 | Exchange Place | 40.71625 | -74.03346 | 3186 | Grove St PATH    | 40.71959 | -74.04312 | 29496 | Subscriber | 1970 | 1 |\n",
       "| 9 |  632 | 2019-02-01 18:05:26.8150 | 2019-02-01 18:15:59.1050 | 3183 | Exchange Place | 40.71625 | -74.03346 | 3278 | Monmouth and 6th | 40.72569 | -74.04879 | 26307 | Customer   | 1981 | 1 |\n",
       "| 10 |  235 | 2019-02-01 18:11:06.8410 | 2019-02-01 18:15:02.7810 | 3183 | Exchange Place | 40.71625 | -74.03346 | 3681 | Grand St         | 40.71518 | -74.03768 | 26293 | Subscriber | 1982 | 1 |\n",
       "| 11 |  306 | 2019-02-01 18:11:59.4700 | 2019-02-01 18:17:06.1050 | 3183 | Exchange Place | 40.71625 | -74.03346 | 3481 | York St          | 40.71649 | -74.04105 | 26242 | Subscriber | 1980 | 1 |\n",
       "| 12 |  763 | 2019-02-01 18:33:33.0410 | 2019-02-01 18:46:16.9620 | 3183 | Exchange Place | 40.71625 | -74.03346 | 3269 | Brunswick &amp; 6th  | 40.72601 | -74.05039 | 26252 | Subscriber | 1958 | 1 |\n",
       "| 13 |  232 | 2019-02-01 18:45:31.6110 | 2019-02-01 18:49:23.7990 | 3183 | Exchange Place | 40.71625 | -74.03346 | 3187 | Warren St        | 40.72112 | -74.03805 | 26306 | Subscriber | 1972 | 1 |\n",
       "| 14 |  242 | 2019-02-01 19:13:07.7710 | 2019-02-01 19:17:10.1560 | 3183 | Exchange Place | 40.71625 | -74.03346 | 3267 | Morris Canal     | 40.71242 | -74.03853 | 29546 | Subscriber | 1989 | 2 |\n",
       "| 15 |  150 | 2019-02-01 19:20:23.3150 | 2019-02-01 19:22:53.9000 | 3183 | Exchange Place | 40.71625 | -74.03346 | 3214 | Essex Light Rail | 40.71277 | -74.03649 | 29307 | Subscriber | 1987 | 1 |\n",
       "| 16 |  432 | 2019-02-01 19:39:26.2080 | 2019-02-01 19:46:38.9500 | 3183 | Exchange Place | 40.71625 | -74.03346 | 3202 | Newport PATH     | 40.72722 | -74.03376 | 29227 | Subscriber | 1991 | 1 |\n",
       "| 17 |  329 | 2019-02-01 20:01:43.2900 | 2019-02-01 20:07:12.2930 | 3183 | Exchange Place | 40.71625 | -74.03346 | 3481 | York St          | 40.71649 | -74.04105 | 29440 | Subscriber | 1968 | 2 |\n",
       "| 18 |  963 | 2019-02-01 21:57:59.4260 | 2019-02-01 22:14:03.0320 | 3183 | Exchange Place | 40.71625 | -74.03346 | 3212 | Christ Hospital  | 40.73479 | -74.05044 | 29302 | Subscriber | 1988 | 1 |\n",
       "| 19 |  284 | 2019-02-01 22:09:08.6670 | 2019-02-01 22:13:53.0770 | 3183 | Exchange Place | 40.71625 | -74.03346 | 3267 | Morris Canal     | 40.71242 | -74.03853 | 26167 | Subscriber | 1974 | 1 |\n",
       "| 20 |  110 | 2019-02-01 22:20:11.9820 | 2019-02-01 22:22:02.5730 | 3183 | Exchange Place | 40.71625 | -74.03346 | 3639 | Harborside       | 40.71925 | -74.03423 | 29548 | Subscriber | 1989 | 1 |\n",
       "| 21 |  219 | 2019-02-02 16:42:34.0160 | 2019-02-02 16:46:13.2730 | 3183 | Exchange Place | 40.71625 | -74.03346 | 3267 | Morris Canal     | 40.71242 | -74.03853 | 26238 | Subscriber | 1994 | 2 |\n",
       "| 22 |   79 | 2019-02-03 08:35:43.1000 | 2019-02-03 08:37:02.7110 | 3183 | Exchange Place | 40.71625 | -74.03346 | 3639 | Harborside       | 40.71925 | -74.03423 | 26265 | Subscriber | 1990 | 1 |\n",
       "| 23 | 1196 | 2019-02-03 13:53:54.9220 | 2019-02-03 14:13:51.6910 | 3183 | Exchange Place | 40.71625 | -74.03346 | 3267 | Morris Canal     | 40.71242 | -74.03853 | 26159 | Subscriber | 1961 | 1 |\n",
       "| 24 |  541 | 2019-02-03 14:05:46.6380 | 2019-02-03 14:14:47.7130 | 3183 | Exchange Place | 40.71625 | -74.03346 | 3203 | Hamilton Park    | 40.72760 | -74.04425 | 33609 | Subscriber | 1974 | 1 |\n",
       "| 25 |  821 | 2019-02-03 14:45:03.2880 | 2019-02-03 14:58:45.0290 | 3183 | Exchange Place | 40.71625 | -74.03346 | 3279 | Dixon Mills      | 40.72163 | -74.04997 | 26264 | Subscriber | 1976 | 1 |\n",
       "| 26 | 1497 | 2019-02-03 15:12:06.8830 | 2019-02-03 15:37:04.7000 | 3183 | Exchange Place | 40.71625 | -74.03346 | 3206 | Hilltop          | 40.73117 | -74.05757 | 29204 | Subscriber | 1986 | 1 |\n",
       "| 27 | 1027 | 2019-02-03 15:20:59.4450 | 2019-02-03 15:38:06.8200 | 3183 | Exchange Place | 40.71625 | -74.03346 | 3194 | McGinley Square  | 40.72534 | -74.06762 | 29504 | Subscriber | 1973 | 2 |\n",
       "| 28 |  888 | 2019-02-03 15:27:31.9340 | 2019-02-03 15:42:20.2670 | 3183 | Exchange Place | 40.71625 | -74.03346 | 3267 | Morris Canal     | 40.71242 | -74.03853 | 26189 | Subscriber | 1980 | 2 |\n",
       "| 29 |  566 | 2019-02-03 15:56:00.8510 | 2019-02-03 16:05:27.6320 | 3183 | Exchange Place | 40.71625 | -74.03346 | 3279 | Dixon Mills      | 40.72163 | -74.04997 | 29215 | Subscriber | 1981 | 2 |\n",
       "| 30 |  554 | 2019-02-03 16:42:13.2000 | 2019-02-03 16:51:27.7270 | 3183 | Exchange Place | 40.71625 | -74.03346 | 3269 | Brunswick &amp; 6th  | 40.72601 | -74.05039 | 29595 | Subscriber | 1958 | 1 |\n",
       "| ⋮ | ⋮ | ⋮ | ⋮ | ⋮ | ⋮ | ⋮ | ⋮ | ⋮ | ⋮ | ⋮ | ⋮ | ⋮ | ⋮ | ⋮ | ⋮ |\n",
       "| 150763 |  557 | 2019-06-30 22:16:45.4260 | 2019-06-30 22:26:02.7900 | 3195 | Sip Ave            | 40.73090 | -74.06391 | 3679 | Bergen Ave              | 40.72210 | -74.07146 | 29452 | Customer   | 1989 | 2 |\n",
       "| 150764 |  307 | 2019-06-30 22:19:47.5250 | 2019-06-30 22:24:55.2040 | 3186 | Grove St PATH      | 40.71959 | -74.04312 | 3278 | Monmouth and 6th        | 40.72569 | -74.04879 | 29251 | Customer   | 1969 | 0 |\n",
       "| 150765 |   62 | 2019-06-30 22:21:29.4560 | 2019-06-30 22:22:31.4720 | 3185 | City Hall          | 40.71773 | -74.04385 | 3186 | Grove St PATH           | 40.71959 | -74.04312 | 26170 | Subscriber | 1982 | 1 |\n",
       "| 150766 |  392 | 2019-06-30 22:22:59.9100 | 2019-06-30 22:29:32.7860 | 3193 | Lincoln Park       | 40.72461 | -74.07841 | 3195 | Sip Ave                 | 40.73090 | -74.06391 | 26209 | Subscriber | 1983 | 1 |\n",
       "| 150767 |  645 | 2019-06-30 22:24:19.2920 | 2019-06-30 22:35:05.0900 | 3186 | Grove St PATH      | 40.71959 | -74.04312 | 3192 | Liberty Light Rail      | 40.71124 | -74.05570 | 26170 | Subscriber | 1978 | 1 |\n",
       "| 150768 |  655 | 2019-06-30 22:25:45.7800 | 2019-06-30 22:36:40.8890 | 3199 | Newport Pkwy       | 40.72874 | -74.03211 | 3214 | Essex Light Rail        | 40.71277 | -74.03649 | 26293 | Subscriber | 1992 | 1 |\n",
       "| 150769 |  598 | 2019-06-30 22:26:15.3500 | 2019-06-30 22:36:13.6740 | 3184 | Paulus Hook        | 40.71415 | -74.03355 | 3279 | Dixon Mills             | 40.72163 | -74.04997 | 29600 | Subscriber | 1981 | 1 |\n",
       "| 150770 |  675 | 2019-06-30 22:26:28.1950 | 2019-06-30 22:37:43.9740 | 3199 | Newport Pkwy       | 40.72874 | -74.03211 | 3214 | Essex Light Rail        | 40.71277 | -74.03649 | 29268 | Subscriber | 1986 | 1 |\n",
       "| 150771 | 3724 | 2019-06-30 22:28:08.9520 | 2019-06-30 23:30:13.1390 | 3679 | Bergen Ave         | 40.72210 | -74.07146 | 3679 | Bergen Ave              | 40.72210 | -74.07146 | 29612 | Customer   | 2002 | 2 |\n",
       "| 150772 | 3713 | 2019-06-30 22:28:23.3150 | 2019-06-30 23:30:16.6700 | 3679 | Bergen Ave         | 40.72210 | -74.07146 | 3679 | Bergen Ave              | 40.72210 | -74.07146 | 29241 | Customer   | 2001 | 1 |\n",
       "| 150773 | 3695 | 2019-06-30 22:28:34.8260 | 2019-06-30 23:30:10.5400 | 3679 | Bergen Ave         | 40.72210 | -74.07146 | 3679 | Bergen Ave              | 40.72210 | -74.07146 | 29452 | Customer   | 2000 | 1 |\n",
       "| 150774 |  286 | 2019-06-30 22:45:36.1750 | 2019-06-30 22:50:22.5220 | 3211 | Newark Ave         | 40.72153 | -74.04630 | 3209 | Brunswick St            | 40.72418 | -74.05066 | 29672 | Customer   | 1989 | 1 |\n",
       "| 150775 |  243 | 2019-06-30 22:46:23.0550 | 2019-06-30 22:50:26.4640 | 3211 | Newark Ave         | 40.72153 | -74.04630 | 3209 | Brunswick St            | 40.72418 | -74.05066 | 29306 | Customer   | 1993 | 1 |\n",
       "| 150776 |  385 | 2019-06-30 22:46:29.3450 | 2019-06-30 22:52:55.3050 | 3202 | Newport PATH       | 40.72722 | -74.03376 | 3203 | Hamilton Park           | 40.72760 | -74.04425 | 26317 | Subscriber | 1991 | 1 |\n",
       "| 150777 |  333 | 2019-06-30 22:48:08.8390 | 2019-06-30 22:53:42.0470 | 3192 | Liberty Light Rail | 40.71124 | -74.05570 | 3277 | Communipaw &amp; Berry Lane | 40.71436 | -74.06661 | 26261 | Customer   | 1986 | 1 |\n",
       "| 150778 |  187 | 2019-06-30 22:55:39.2800 | 2019-06-30 22:58:46.3540 | 3211 | Newark Ave         | 40.72153 | -74.04630 | 3269 | Brunswick &amp; 6th         | 40.72601 | -74.05039 | 26302 | Subscriber | 1977 | 1 |\n",
       "| 150779 |  336 | 2019-06-30 22:57:20.5170 | 2019-06-30 23:02:56.5360 | 3211 | Newark Ave         | 40.72153 | -74.04630 | 3205 | JC Medical Center       | 40.71654 | -74.04964 | 29503 | Customer   | 1995 | 1 |\n",
       "| 150780 |  306 | 2019-06-30 23:16:06.0000 | 2019-06-30 23:21:12.8640 | 3279 | Dixon Mills        | 40.72163 | -74.04997 | 3279 | Dixon Mills             | 40.72163 | -74.04997 | 29447 | Subscriber | 1984 | 1 |\n",
       "| 150781 |  305 | 2019-06-30 23:17:59.1420 | 2019-06-30 23:23:04.6360 | 3195 | Sip Ave            | 40.73090 | -74.06391 | 3678 | Fairmount Ave           | 40.72573 | -74.07196 | 26209 | Subscriber | 1988 | 1 |\n",
       "| 150782 |  141 | 2019-06-30 23:21:36.1290 | 2019-06-30 23:23:57.8710 | 3279 | Dixon Mills        | 40.72163 | -74.04997 | 3186 | Grove St PATH           | 40.71959 | -74.04312 | 29265 | Subscriber | 1989 | 1 |\n",
       "| 150783 |  586 | 2019-06-30 23:25:13.1970 | 2019-06-30 23:35:00.0580 | 3192 | Liberty Light Rail | 40.71124 | -74.05570 | 3280 | Astor Place             | 40.71928 | -74.07126 | 29618 | Subscriber | 1979 | 1 |\n",
       "| 150784 |  324 | 2019-06-30 23:26:49.4090 | 2019-06-30 23:32:13.9470 | 3202 | Newport PATH       | 40.72722 | -74.03376 | 3203 | Hamilton Park           | 40.72760 | -74.04425 | 29465 | Subscriber | 1974 | 1 |\n",
       "| 150785 |  395 | 2019-06-30 23:37:49.4750 | 2019-06-30 23:44:24.5350 | 3279 | Dixon Mills        | 40.72163 | -74.04997 | 3279 | Dixon Mills             | 40.72163 | -74.04997 | 29447 | Subscriber | 1973 | 1 |\n",
       "| 150786 |  654 | 2019-06-30 23:38:21.5840 | 2019-06-30 23:49:15.8860 | 3677 | Glenwood Ave       | 40.72755 | -74.07106 | 3191 | Union St                | 40.71821 | -74.08364 | 26152 | Customer   | 1969 | 0 |\n",
       "| 150787 |  654 | 2019-06-30 23:38:22.9500 | 2019-06-30 23:49:17.9290 | 3677 | Glenwood Ave       | 40.72755 | -74.07106 | 3191 | Union St                | 40.71821 | -74.08364 | 26310 | Customer   | 1990 | 2 |\n",
       "| 150788 |  639 | 2019-06-30 23:38:29.5450 | 2019-06-30 23:49:09.2110 | 3677 | Glenwood Ave       | 40.72755 | -74.07106 | 3191 | Union St                | 40.71821 | -74.08364 | 29197 | Customer   | 1986 | 1 |\n",
       "| 150789 |  643 | 2019-06-30 23:38:34.9100 | 2019-06-30 23:49:17.9690 | 3677 | Glenwood Ave       | 40.72755 | -74.07106 | 3191 | Union St                | 40.71821 | -74.08364 | 26262 | Customer   | 1990 | 2 |\n",
       "| 150790 |  418 | 2019-06-30 23:42:30.9400 | 2019-06-30 23:49:29.5360 | 3679 | Bergen Ave         | 40.72210 | -74.07146 | 3191 | Union St                | 40.71821 | -74.08364 | 29241 | Subscriber | 1979 | 1 |\n",
       "| 150791 | 2529 | 2019-06-30 23:46:17.5700 | 2019-07-01 00:28:27.1710 | 3185 | City Hall          | 40.71773 | -74.04385 | 3213 | Van Vorst Park          | 40.71849 | -74.04773 | 26254 | Subscriber | 1982 | 1 |\n",
       "| 150792 |  831 | 2019-06-30 23:49:01.6830 | 2019-07-01 00:02:53.1150 | 3210 | Pershing Field     | 40.74268 | -74.05179 | 3186 | Grove St PATH           | 40.71959 | -74.04312 | 29551 | Subscriber | 1988 | 1 |\n",
       "\n"
      ],
      "text/plain": [
       "       tripduration starttime                stoptime                \n",
       "1       142         2019-02-01 15:35:02.0820 2019-02-01 15:37:24.1360\n",
       "2       223         2019-02-01 17:00:46.8900 2019-02-01 17:04:30.5500\n",
       "3       106         2019-02-01 17:08:01.3260 2019-02-01 17:09:47.4400\n",
       "4       370         2019-02-01 17:09:31.2100 2019-02-01 17:15:41.6550\n",
       "5       315         2019-02-01 17:19:53.2490 2019-02-01 17:25:09.1400\n",
       "6       145         2019-02-01 17:32:53.2630 2019-02-01 17:35:18.7510\n",
       "7      1625         2019-02-01 17:39:55.5390 2019-02-01 18:07:01.2660\n",
       "8       485         2019-02-01 17:46:32.7540 2019-02-01 17:54:37.9890\n",
       "9       632         2019-02-01 18:05:26.8150 2019-02-01 18:15:59.1050\n",
       "10      235         2019-02-01 18:11:06.8410 2019-02-01 18:15:02.7810\n",
       "11      306         2019-02-01 18:11:59.4700 2019-02-01 18:17:06.1050\n",
       "12      763         2019-02-01 18:33:33.0410 2019-02-01 18:46:16.9620\n",
       "13      232         2019-02-01 18:45:31.6110 2019-02-01 18:49:23.7990\n",
       "14      242         2019-02-01 19:13:07.7710 2019-02-01 19:17:10.1560\n",
       "15      150         2019-02-01 19:20:23.3150 2019-02-01 19:22:53.9000\n",
       "16      432         2019-02-01 19:39:26.2080 2019-02-01 19:46:38.9500\n",
       "17      329         2019-02-01 20:01:43.2900 2019-02-01 20:07:12.2930\n",
       "18      963         2019-02-01 21:57:59.4260 2019-02-01 22:14:03.0320\n",
       "19      284         2019-02-01 22:09:08.6670 2019-02-01 22:13:53.0770\n",
       "20      110         2019-02-01 22:20:11.9820 2019-02-01 22:22:02.5730\n",
       "21      219         2019-02-02 16:42:34.0160 2019-02-02 16:46:13.2730\n",
       "22       79         2019-02-03 08:35:43.1000 2019-02-03 08:37:02.7110\n",
       "23     1196         2019-02-03 13:53:54.9220 2019-02-03 14:13:51.6910\n",
       "24      541         2019-02-03 14:05:46.6380 2019-02-03 14:14:47.7130\n",
       "25      821         2019-02-03 14:45:03.2880 2019-02-03 14:58:45.0290\n",
       "26     1497         2019-02-03 15:12:06.8830 2019-02-03 15:37:04.7000\n",
       "27     1027         2019-02-03 15:20:59.4450 2019-02-03 15:38:06.8200\n",
       "28      888         2019-02-03 15:27:31.9340 2019-02-03 15:42:20.2670\n",
       "29      566         2019-02-03 15:56:00.8510 2019-02-03 16:05:27.6320\n",
       "30      554         2019-02-03 16:42:13.2000 2019-02-03 16:51:27.7270\n",
       "⋮      ⋮            ⋮                        ⋮                       \n",
       "150763  557         2019-06-30 22:16:45.4260 2019-06-30 22:26:02.7900\n",
       "150764  307         2019-06-30 22:19:47.5250 2019-06-30 22:24:55.2040\n",
       "150765   62         2019-06-30 22:21:29.4560 2019-06-30 22:22:31.4720\n",
       "150766  392         2019-06-30 22:22:59.9100 2019-06-30 22:29:32.7860\n",
       "150767  645         2019-06-30 22:24:19.2920 2019-06-30 22:35:05.0900\n",
       "150768  655         2019-06-30 22:25:45.7800 2019-06-30 22:36:40.8890\n",
       "150769  598         2019-06-30 22:26:15.3500 2019-06-30 22:36:13.6740\n",
       "150770  675         2019-06-30 22:26:28.1950 2019-06-30 22:37:43.9740\n",
       "150771 3724         2019-06-30 22:28:08.9520 2019-06-30 23:30:13.1390\n",
       "150772 3713         2019-06-30 22:28:23.3150 2019-06-30 23:30:16.6700\n",
       "150773 3695         2019-06-30 22:28:34.8260 2019-06-30 23:30:10.5400\n",
       "150774  286         2019-06-30 22:45:36.1750 2019-06-30 22:50:22.5220\n",
       "150775  243         2019-06-30 22:46:23.0550 2019-06-30 22:50:26.4640\n",
       "150776  385         2019-06-30 22:46:29.3450 2019-06-30 22:52:55.3050\n",
       "150777  333         2019-06-30 22:48:08.8390 2019-06-30 22:53:42.0470\n",
       "150778  187         2019-06-30 22:55:39.2800 2019-06-30 22:58:46.3540\n",
       "150779  336         2019-06-30 22:57:20.5170 2019-06-30 23:02:56.5360\n",
       "150780  306         2019-06-30 23:16:06.0000 2019-06-30 23:21:12.8640\n",
       "150781  305         2019-06-30 23:17:59.1420 2019-06-30 23:23:04.6360\n",
       "150782  141         2019-06-30 23:21:36.1290 2019-06-30 23:23:57.8710\n",
       "150783  586         2019-06-30 23:25:13.1970 2019-06-30 23:35:00.0580\n",
       "150784  324         2019-06-30 23:26:49.4090 2019-06-30 23:32:13.9470\n",
       "150785  395         2019-06-30 23:37:49.4750 2019-06-30 23:44:24.5350\n",
       "150786  654         2019-06-30 23:38:21.5840 2019-06-30 23:49:15.8860\n",
       "150787  654         2019-06-30 23:38:22.9500 2019-06-30 23:49:17.9290\n",
       "150788  639         2019-06-30 23:38:29.5450 2019-06-30 23:49:09.2110\n",
       "150789  643         2019-06-30 23:38:34.9100 2019-06-30 23:49:17.9690\n",
       "150790  418         2019-06-30 23:42:30.9400 2019-06-30 23:49:29.5360\n",
       "150791 2529         2019-06-30 23:46:17.5700 2019-07-01 00:28:27.1710\n",
       "150792  831         2019-06-30 23:49:01.6830 2019-07-01 00:02:53.1150\n",
       "       start.station.id start.station.name start.station.latitude\n",
       "1      3183             Exchange Place     40.71625              \n",
       "2      3183             Exchange Place     40.71625              \n",
       "3      3183             Exchange Place     40.71625              \n",
       "4      3183             Exchange Place     40.71625              \n",
       "5      3183             Exchange Place     40.71625              \n",
       "6      3183             Exchange Place     40.71625              \n",
       "7      3183             Exchange Place     40.71625              \n",
       "8      3183             Exchange Place     40.71625              \n",
       "9      3183             Exchange Place     40.71625              \n",
       "10     3183             Exchange Place     40.71625              \n",
       "11     3183             Exchange Place     40.71625              \n",
       "12     3183             Exchange Place     40.71625              \n",
       "13     3183             Exchange Place     40.71625              \n",
       "14     3183             Exchange Place     40.71625              \n",
       "15     3183             Exchange Place     40.71625              \n",
       "16     3183             Exchange Place     40.71625              \n",
       "17     3183             Exchange Place     40.71625              \n",
       "18     3183             Exchange Place     40.71625              \n",
       "19     3183             Exchange Place     40.71625              \n",
       "20     3183             Exchange Place     40.71625              \n",
       "21     3183             Exchange Place     40.71625              \n",
       "22     3183             Exchange Place     40.71625              \n",
       "23     3183             Exchange Place     40.71625              \n",
       "24     3183             Exchange Place     40.71625              \n",
       "25     3183             Exchange Place     40.71625              \n",
       "26     3183             Exchange Place     40.71625              \n",
       "27     3183             Exchange Place     40.71625              \n",
       "28     3183             Exchange Place     40.71625              \n",
       "29     3183             Exchange Place     40.71625              \n",
       "30     3183             Exchange Place     40.71625              \n",
       "⋮      ⋮                ⋮                  ⋮                     \n",
       "150763 3195             Sip Ave            40.73090              \n",
       "150764 3186             Grove St PATH      40.71959              \n",
       "150765 3185             City Hall          40.71773              \n",
       "150766 3193             Lincoln Park       40.72461              \n",
       "150767 3186             Grove St PATH      40.71959              \n",
       "150768 3199             Newport Pkwy       40.72874              \n",
       "150769 3184             Paulus Hook        40.71415              \n",
       "150770 3199             Newport Pkwy       40.72874              \n",
       "150771 3679             Bergen Ave         40.72210              \n",
       "150772 3679             Bergen Ave         40.72210              \n",
       "150773 3679             Bergen Ave         40.72210              \n",
       "150774 3211             Newark Ave         40.72153              \n",
       "150775 3211             Newark Ave         40.72153              \n",
       "150776 3202             Newport PATH       40.72722              \n",
       "150777 3192             Liberty Light Rail 40.71124              \n",
       "150778 3211             Newark Ave         40.72153              \n",
       "150779 3211             Newark Ave         40.72153              \n",
       "150780 3279             Dixon Mills        40.72163              \n",
       "150781 3195             Sip Ave            40.73090              \n",
       "150782 3279             Dixon Mills        40.72163              \n",
       "150783 3192             Liberty Light Rail 40.71124              \n",
       "150784 3202             Newport PATH       40.72722              \n",
       "150785 3279             Dixon Mills        40.72163              \n",
       "150786 3677             Glenwood Ave       40.72755              \n",
       "150787 3677             Glenwood Ave       40.72755              \n",
       "150788 3677             Glenwood Ave       40.72755              \n",
       "150789 3677             Glenwood Ave       40.72755              \n",
       "150790 3679             Bergen Ave         40.72210              \n",
       "150791 3185             City Hall          40.71773              \n",
       "150792 3210             Pershing Field     40.74268              \n",
       "       start.station.longitude end.station.id end.station.name       \n",
       "1      -74.03346               3639           Harborside             \n",
       "2      -74.03346               3681           Grand St               \n",
       "3      -74.03346               3184           Paulus Hook            \n",
       "4      -74.03346               3211           Newark Ave             \n",
       "5      -74.03346               3273           Manila & 1st           \n",
       "6      -74.03346               3214           Essex Light Rail       \n",
       "7      -74.03346               3186           Grove St PATH          \n",
       "8      -74.03346               3186           Grove St PATH          \n",
       "9      -74.03346               3278           Monmouth and 6th       \n",
       "10     -74.03346               3681           Grand St               \n",
       "11     -74.03346               3481           York St                \n",
       "12     -74.03346               3269           Brunswick & 6th        \n",
       "13     -74.03346               3187           Warren St              \n",
       "14     -74.03346               3267           Morris Canal           \n",
       "15     -74.03346               3214           Essex Light Rail       \n",
       "16     -74.03346               3202           Newport PATH           \n",
       "17     -74.03346               3481           York St                \n",
       "18     -74.03346               3212           Christ Hospital        \n",
       "19     -74.03346               3267           Morris Canal           \n",
       "20     -74.03346               3639           Harborside             \n",
       "21     -74.03346               3267           Morris Canal           \n",
       "22     -74.03346               3639           Harborside             \n",
       "23     -74.03346               3267           Morris Canal           \n",
       "24     -74.03346               3203           Hamilton Park          \n",
       "25     -74.03346               3279           Dixon Mills            \n",
       "26     -74.03346               3206           Hilltop                \n",
       "27     -74.03346               3194           McGinley Square        \n",
       "28     -74.03346               3267           Morris Canal           \n",
       "29     -74.03346               3279           Dixon Mills            \n",
       "30     -74.03346               3269           Brunswick & 6th        \n",
       "⋮      ⋮                       ⋮              ⋮                      \n",
       "150763 -74.06391               3679           Bergen Ave             \n",
       "150764 -74.04312               3278           Monmouth and 6th       \n",
       "150765 -74.04385               3186           Grove St PATH          \n",
       "150766 -74.07841               3195           Sip Ave                \n",
       "150767 -74.04312               3192           Liberty Light Rail     \n",
       "150768 -74.03211               3214           Essex Light Rail       \n",
       "150769 -74.03355               3279           Dixon Mills            \n",
       "150770 -74.03211               3214           Essex Light Rail       \n",
       "150771 -74.07146               3679           Bergen Ave             \n",
       "150772 -74.07146               3679           Bergen Ave             \n",
       "150773 -74.07146               3679           Bergen Ave             \n",
       "150774 -74.04630               3209           Brunswick St           \n",
       "150775 -74.04630               3209           Brunswick St           \n",
       "150776 -74.03376               3203           Hamilton Park          \n",
       "150777 -74.05570               3277           Communipaw & Berry Lane\n",
       "150778 -74.04630               3269           Brunswick & 6th        \n",
       "150779 -74.04630               3205           JC Medical Center      \n",
       "150780 -74.04997               3279           Dixon Mills            \n",
       "150781 -74.06391               3678           Fairmount Ave          \n",
       "150782 -74.04997               3186           Grove St PATH          \n",
       "150783 -74.05570               3280           Astor Place            \n",
       "150784 -74.03376               3203           Hamilton Park          \n",
       "150785 -74.04997               3279           Dixon Mills            \n",
       "150786 -74.07106               3191           Union St               \n",
       "150787 -74.07106               3191           Union St               \n",
       "150788 -74.07106               3191           Union St               \n",
       "150789 -74.07106               3191           Union St               \n",
       "150790 -74.07146               3191           Union St               \n",
       "150791 -74.04385               3213           Van Vorst Park         \n",
       "150792 -74.05179               3186           Grove St PATH          \n",
       "       end.station.latitude end.station.longitude bikeid usertype   birth.year\n",
       "1      40.71925             -74.03423             29677  Subscriber 1963      \n",
       "2      40.71518             -74.03768             26234  Subscriber 1992      \n",
       "3      40.71415             -74.03355             29588  Subscriber 1960      \n",
       "4      40.72153             -74.04630             29250  Subscriber 1976      \n",
       "5      40.72165             -74.04288             29586  Subscriber 1980      \n",
       "6      40.71277             -74.03649             26153  Subscriber 1984      \n",
       "7      40.71959             -74.04312             29242  Subscriber 1993      \n",
       "8      40.71959             -74.04312             29496  Subscriber 1970      \n",
       "9      40.72569             -74.04879             26307  Customer   1981      \n",
       "10     40.71518             -74.03768             26293  Subscriber 1982      \n",
       "11     40.71649             -74.04105             26242  Subscriber 1980      \n",
       "12     40.72601             -74.05039             26252  Subscriber 1958      \n",
       "13     40.72112             -74.03805             26306  Subscriber 1972      \n",
       "14     40.71242             -74.03853             29546  Subscriber 1989      \n",
       "15     40.71277             -74.03649             29307  Subscriber 1987      \n",
       "16     40.72722             -74.03376             29227  Subscriber 1991      \n",
       "17     40.71649             -74.04105             29440  Subscriber 1968      \n",
       "18     40.73479             -74.05044             29302  Subscriber 1988      \n",
       "19     40.71242             -74.03853             26167  Subscriber 1974      \n",
       "20     40.71925             -74.03423             29548  Subscriber 1989      \n",
       "21     40.71242             -74.03853             26238  Subscriber 1994      \n",
       "22     40.71925             -74.03423             26265  Subscriber 1990      \n",
       "23     40.71242             -74.03853             26159  Subscriber 1961      \n",
       "24     40.72760             -74.04425             33609  Subscriber 1974      \n",
       "25     40.72163             -74.04997             26264  Subscriber 1976      \n",
       "26     40.73117             -74.05757             29204  Subscriber 1986      \n",
       "27     40.72534             -74.06762             29504  Subscriber 1973      \n",
       "28     40.71242             -74.03853             26189  Subscriber 1980      \n",
       "29     40.72163             -74.04997             29215  Subscriber 1981      \n",
       "30     40.72601             -74.05039             29595  Subscriber 1958      \n",
       "⋮      ⋮                    ⋮                     ⋮      ⋮          ⋮         \n",
       "150763 40.72210             -74.07146             29452  Customer   1989      \n",
       "150764 40.72569             -74.04879             29251  Customer   1969      \n",
       "150765 40.71959             -74.04312             26170  Subscriber 1982      \n",
       "150766 40.73090             -74.06391             26209  Subscriber 1983      \n",
       "150767 40.71124             -74.05570             26170  Subscriber 1978      \n",
       "150768 40.71277             -74.03649             26293  Subscriber 1992      \n",
       "150769 40.72163             -74.04997             29600  Subscriber 1981      \n",
       "150770 40.71277             -74.03649             29268  Subscriber 1986      \n",
       "150771 40.72210             -74.07146             29612  Customer   2002      \n",
       "150772 40.72210             -74.07146             29241  Customer   2001      \n",
       "150773 40.72210             -74.07146             29452  Customer   2000      \n",
       "150774 40.72418             -74.05066             29672  Customer   1989      \n",
       "150775 40.72418             -74.05066             29306  Customer   1993      \n",
       "150776 40.72760             -74.04425             26317  Subscriber 1991      \n",
       "150777 40.71436             -74.06661             26261  Customer   1986      \n",
       "150778 40.72601             -74.05039             26302  Subscriber 1977      \n",
       "150779 40.71654             -74.04964             29503  Customer   1995      \n",
       "150780 40.72163             -74.04997             29447  Subscriber 1984      \n",
       "150781 40.72573             -74.07196             26209  Subscriber 1988      \n",
       "150782 40.71959             -74.04312             29265  Subscriber 1989      \n",
       "150783 40.71928             -74.07126             29618  Subscriber 1979      \n",
       "150784 40.72760             -74.04425             29465  Subscriber 1974      \n",
       "150785 40.72163             -74.04997             29447  Subscriber 1973      \n",
       "150786 40.71821             -74.08364             26152  Customer   1969      \n",
       "150787 40.71821             -74.08364             26310  Customer   1990      \n",
       "150788 40.71821             -74.08364             29197  Customer   1986      \n",
       "150789 40.71821             -74.08364             26262  Customer   1990      \n",
       "150790 40.71821             -74.08364             29241  Subscriber 1979      \n",
       "150791 40.71849             -74.04773             26254  Subscriber 1982      \n",
       "150792 40.71959             -74.04312             29551  Subscriber 1988      \n",
       "       gender\n",
       "1      1     \n",
       "2      2     \n",
       "3      1     \n",
       "4      1     \n",
       "5      1     \n",
       "6      1     \n",
       "7      1     \n",
       "8      1     \n",
       "9      1     \n",
       "10     1     \n",
       "11     1     \n",
       "12     1     \n",
       "13     1     \n",
       "14     2     \n",
       "15     1     \n",
       "16     1     \n",
       "17     2     \n",
       "18     1     \n",
       "19     1     \n",
       "20     1     \n",
       "21     2     \n",
       "22     1     \n",
       "23     1     \n",
       "24     1     \n",
       "25     1     \n",
       "26     1     \n",
       "27     2     \n",
       "28     2     \n",
       "29     2     \n",
       "30     1     \n",
       "⋮      ⋮     \n",
       "150763 2     \n",
       "150764 0     \n",
       "150765 1     \n",
       "150766 1     \n",
       "150767 1     \n",
       "150768 1     \n",
       "150769 1     \n",
       "150770 1     \n",
       "150771 2     \n",
       "150772 1     \n",
       "150773 1     \n",
       "150774 1     \n",
       "150775 1     \n",
       "150776 1     \n",
       "150777 1     \n",
       "150778 1     \n",
       "150779 1     \n",
       "150780 1     \n",
       "150781 1     \n",
       "150782 1     \n",
       "150783 1     \n",
       "150784 1     \n",
       "150785 1     \n",
       "150786 0     \n",
       "150787 2     \n",
       "150788 1     \n",
       "150789 2     \n",
       "150790 1     \n",
       "150791 1     \n",
       "150792 1     "
      ]
     },
     "metadata": {},
     "output_type": "display_data"
    }
   ],
   "source": [
    "#check for missing data and remove it\n",
    "# data[!apply(data, 1, function(row) any(is.na(row))), ]\n",
    "\n",
    "na.omit(data)"
   ]
  },
  {
   "cell_type": "code",
   "execution_count": 5,
   "metadata": {
    "vscode": {
     "languageId": "r"
    }
   },
   "outputs": [
    {
     "name": "stdout",
     "output_type": "stream",
     "text": [
      "Average trip duration (in minutes): 12.81071\n",
      "Median trip duration (in minutes): 5.683333"
     ]
    }
   ],
   "source": [
    "#compute the average and the median trip duration\n",
    "cat(\"Average trip duration (in minutes):\", mean(data[['tripduration']])/60)\n",
    "cat(\"\\nMedian trip duration (in minutes):\", median(data[['tripduration']])/60)"
   ]
  },
  {
   "cell_type": "code",
   "execution_count": 6,
   "metadata": {
    "vscode": {
     "languageId": "r"
    }
   },
   "outputs": [
    {
     "name": "stdout",
     "output_type": "stream",
     "text": [
      "Minimum trip duration (in minutes:) 1.016667\n",
      "Max trip duration in seconds: 1729020 \t Max trip duration in hours: 480.2833\n",
      "It is not a plausible value."
     ]
    }
   ],
   "source": [
    "#evaluate the min and max trip duration\n",
    "\n",
    "cat(\"Minimum trip duration (in minutes:)\", min(data[['tripduration']])/60)\n",
    "max <- max(data[['tripduration']])\n",
    "cat('\\nMax trip duration in seconds:', max, '\\t Max trip duration in hours:', max/3600)\n",
    "cat('\\nIt is not a plausible value.')"
   ]
  },
  {
   "cell_type": "code",
   "execution_count": 7,
   "metadata": {
    "vscode": {
     "languageId": "r"
    }
   },
   "outputs": [
    {
     "name": "stdout",
     "output_type": "stream",
     "text": [
      "Average trip duration excluded implausible data (in minutes): 9.223037\n",
      "Median trip duration excluded implausible data (in minutes): 5.666667\n",
      "Excluded data (trip duration larger than 3 hours): 427"
     ]
    }
   ],
   "source": [
    "#exclude trips longer than 3 hours (3*3600)\n",
    "data_excl <- data[!data$tripduration > (3 * 3600), ]\n",
    "data_excl <- data_excl %>% mutate(tripdur_m = tripduration / 60)\n",
    "cat(\"Average trip duration excluded implausible data (in minutes):\", mean(data_excl[['tripduration']])/60)\n",
    "cat(\"\\nMedian trip duration excluded implausible data (in minutes):\", median(data_excl[['tripduration']])/60)\n",
    "\n",
    "cat(\"\\nExcluded data (trip duration larger than 3 hours):\", sum(data$tripduration > (3 * 3600)))"
   ]
  },
  {
   "cell_type": "code",
   "execution_count": 8,
   "metadata": {
    "vscode": {
     "languageId": "r"
    }
   },
   "outputs": [
    {
     "name": "stderr",
     "output_type": "stream",
     "text": [
      "\u001b[1m\u001b[22m`stat_bin()` using `bins = 30`. Pick better value with `binwidth`.\n"
     ]
    },
    {
     "data": {
      "image/png": "[encoded data removed]",
      "text/plain": [
       "plot without title"
      ]
     },
     "metadata": {
      "image/png": {
       "height": 420,
       "width": 420
      }
     },
     "output_type": "display_data"
    }
   ],
   "source": [
    "#plot the distribution of trip duration after skimming\n",
    "ggplot(data_excl, aes(x = tripdur_m,)) + geom_histogram() + theme_minimal() +\n",
    "        labs(title = \"Distribution of trip duration\",\n",
    "       x = \"Trip duration (minutes)\", y = \"Frequency\")"
   ]
  },
  {
   "cell_type": "code",
   "execution_count": 9,
   "metadata": {
    "vscode": {
     "languageId": "r"
    }
   },
   "outputs": [],
   "source": [
    "library(lubridate)"
   ]
  },
  {
   "cell_type": "code",
   "execution_count": 10,
   "metadata": {
    "vscode": {
     "languageId": "r"
    }
   },
   "outputs": [],
   "source": [
    "#plot the monthly average trip duration\n",
    "data_excl <- data_excl %>% mutate(starttime = ymd_hms(data_excl$starttime), stoptime = ymd_hms(data_excl$stoptime))\n",
    "\n",
    "data_excl <- data_excl %>% mutate(month = month(starttime, label = TRUE))\n",
    "data_monthly <- data_excl %>% group_by(month) %>% summarise(mon_avg = mean(tripdur_m))\n"
   ]
  },
  {
   "cell_type": "code",
   "execution_count": 11,
   "metadata": {
    "vscode": {
     "languageId": "r"
    }
   },
   "outputs": [
    {
     "data": {
      "image/png": "[encoded data removed]",
      "text/plain": [
       "plot without title"
      ]
     },
     "metadata": {
      "image/png": {
       "height": 420,
       "width": 420
      }
     },
     "output_type": "display_data"
    }
   ],
   "source": [
    "p1 <- ggplot(data_monthly, aes(x = month, y = mon_avg, group = 1))\n",
    "p1 + geom_point() + geom_line() + theme_minimal() +\n",
    "       labs(title = \"Monthly average trip duration\",\n",
    "       x = \"Month\", y = \"Average trip duration (minutes)\")"
   ]
  },
  {
   "cell_type": "code",
   "execution_count": 12,
   "metadata": {
    "vscode": {
     "languageId": "r"
    }
   },
   "outputs": [
    {
     "data": {
      "image/png": "[encoded data removed]",
      "text/plain": [
       "plot without title"
      ]
     },
     "metadata": {
      "image/png": {
       "height": 420,
       "width": 420
      }
     },
     "output_type": "display_data"
    }
   ],
   "source": [
    "#plot the average nubmer of rides per day of the week\n",
    "data_excl <- data_excl %>% mutate(date=as.Date(starttime), wday = wday(starttime, label = TRUE))\n",
    "data_rides <- data_excl %>% group_by(date, wday) %>%\n",
    "  summarise(Rides = n(), .groups = 'drop')\n",
    "data_wday <- data_rides %>% group_by(wday) %>% summarise(avg_rides = mean(Rides))\n",
    "\n",
    "p2 <- ggplot(data_wday, aes(x = wday, y = avg_rides, group=1))\n",
    "p2 + geom_point() + geom_line() + theme_minimal() +\n",
    "         labs(title = \"Average number of rides per day of the week\",\n",
    "       x = \"Day\", y = \"Number of rides\")"
   ]
  },
  {
   "cell_type": "code",
   "execution_count": 13,
   "metadata": {
    "vscode": {
     "languageId": "r"
    }
   },
   "outputs": [
    {
     "data": {
      "image/png": "[encoded data removed]",
      "text/plain": [
       "plot without title"
      ]
     },
     "metadata": {
      "image/png": {
       "height": 420,
       "width": 420
      }
     },
     "output_type": "display_data"
    }
   ],
   "source": [
    "#plot the hourly distribution on weekdays and on weekends\n",
    "data_excl <- data_excl %>% mutate(hour = hour(starttime))\n",
    "data_excl <- data_excl %>% mutate(weekend = if_else(wday %in% c('sab', 'dom'), 'weekend', 'weekday'))\n",
    "hourly_counts <- data_excl %>% group_by(date, weekend, hour) %>% summarise(rides = n(), .groups = \"drop\")\n",
    "avg_hourly <- hourly_counts %>% group_by(weekend, hour) %>% summarise(avg_rides = mean(rides), .groups = \"drop\")\n",
    "ggplot(avg_hourly, aes(x = hour, y=avg_rides, fill = weekend)) +\n",
    "     geom_col() + theme_minimal() +\n",
    "        labs(title = \"Hourly average distribution of rides\",\n",
    "       x = \"Hour\", y = \"Number of rides\", fill = \"Day type\")"
   ]
  },
  {
   "cell_type": "code",
   "execution_count": 14,
   "metadata": {
    "vscode": {
     "languageId": "r"
    }
   },
   "outputs": [
    {
     "data": {
      "image/png": "[encoded data removed]",
      "text/plain": [
       "plot without title"
      ]
     },
     "metadata": {
      "image/png": {
       "height": 420,
       "width": 420
      }
     },
     "output_type": "display_data"
    }
   ],
   "source": [
    "#plot again the average hourly distribution on weekdays\n",
    "#but separating customers and subscribers\n",
    "hourly_counts_wd <- data_excl[data_excl$weekend == \"weekday\", ] %>% group_by(date,  hour, usertype) %>% summarise(rides = n(), .groups = \"drop\")\n",
    "avg_hourly_wd <- hourly_counts_wd %>% group_by( hour, usertype) %>% summarise(avg_rides = mean(rides), .groups = \"drop\")\n",
    "ggplot(avg_hourly_wd, aes(x = hour, y=avg_rides, fill = usertype)) +\n",
    "     geom_col() + theme_minimal() +\n",
    "     labs(title = \"Hourly average ride distribution on weekdays\",\n",
    "       x = \"Hour\", y = \"Number of rides\")"
   ]
  },
  {
   "cell_type": "code",
   "execution_count": 15,
   "metadata": {
    "vscode": {
     "languageId": "r"
    }
   },
   "outputs": [
    {
     "name": "stderr",
     "output_type": "stream",
     "text": [
      "Warning message:\n",
      "\"il pacchetto 'geosphere' è stato creato con R versione 4.4.3\"\n"
     ]
    }
   ],
   "source": [
    "#using the latitude and longitude evaluate the average speed\n",
    "#discarding the trip lasting longer than 1 hour\n",
    "library(geosphere)\n",
    "data_excl2 <- data[!data$tripduration > (3600), ]"
   ]
  },
  {
   "cell_type": "code",
   "execution_count": 16,
   "metadata": {
    "vscode": {
     "languageId": "r"
    }
   },
   "outputs": [
    {
     "name": "stdout",
     "output_type": "stream",
     "text": [
      "Average speed for trips lasting less than 1 hour:  9.240097 km/h"
     ]
    }
   ],
   "source": [
    "data_excl2 <- data_excl2 %>% mutate(\n",
    "    dist = distHaversine(cbind(start.station.longitude, start.station.latitude),\n",
    "                    cbind(end.station.longitude, end.station.latitude)) / 1000)\n",
    "data_excl2 <- data_excl2 %>% mutate(hourduration = tripduration / 3600)\n",
    "data_excl2 <- data_excl2 %>% mutate(speed = dist / hourduration)\n",
    "cat(\"Average speed for trips lasting less than 1 hour: \",\n",
    "    mean(data_excl2$speed), \"km/h\")"
   ]
  },
  {
   "cell_type": "code",
   "execution_count": 17,
   "metadata": {
    "vscode": {
     "languageId": "r"
    }
   },
   "outputs": [
    {
     "data": {
      "image/png": "[encoded data removed]",
      "text/plain": [
       "plot without title"
      ]
     },
     "metadata": {
      "image/png": {
       "height": 420,
       "width": 420
      }
     },
     "output_type": "display_data"
    }
   ],
   "source": [
    "#plot the average speed as a function of route length for the following group\n",
    "# of distances d < 500 m, 500 m < d < 1000 m, 1000 m < d < 2000 m,\n",
    "# 2000 m < d < 3000 m, d > 3000 m and discarding trips longer than 1 hour\n",
    "data_excl2 <- data_excl2 %>% mutate(dlabel = if_else(dist < 0.5, \"<0.5 km\",\n",
    "                                    if_else(dist<1, \"0.5-1 km\",\n",
    "                                    if_else(dist<2, \"1-2 km\", \n",
    "                                    if_else(dist<3, \"2-3 km\", \"> 3 km\")))))\n",
    "speed_vs_dist <- data_excl2 %>% group_by(dlabel) %>% summarize(avg_speed=mean(speed))\n",
    "ggplot(speed_vs_dist, aes(x=dlabel, y=avg_speed, group = 1)) +\n",
    "     geom_point() + geom_line() + theme_minimal() +\n",
    "     labs(title = \"Average speed\",\n",
    "       x = \"Route length\", y = \"Speed (km/h)\")"
   ]
  },
  {
   "cell_type": "code",
   "execution_count": 18,
   "metadata": {
    "vscode": {
     "languageId": "r"
    }
   },
   "outputs": [
    {
     "data": {
      "text/html": [
       "<table class=\"dataframe\">\n",
       "<caption>A tibble: 3 × 2</caption>\n",
       "<thead>\n",
       "\t<tr><th scope=col>start.station.name</th><th scope=col>start_times</th></tr>\n",
       "\t<tr><th scope=col>&lt;chr&gt;</th><th scope=col>&lt;int&gt;</th></tr>\n",
       "</thead>\n",
       "<tbody>\n",
       "\t<tr><td>Grove St PATH</td><td>17871</td></tr>\n",
       "\t<tr><td>Hamilton Park</td><td> 8528</td></tr>\n",
       "\t<tr><td>Sip Ave      </td><td> 7207</td></tr>\n",
       "</tbody>\n",
       "</table>\n"
      ],
      "text/latex": [
       "A tibble: 3 × 2\n",
       "\\begin{tabular}{ll}\n",
       " start.station.name & start\\_times\\\\\n",
       " <chr> & <int>\\\\\n",
       "\\hline\n",
       "\t Grove St PATH & 17871\\\\\n",
       "\t Hamilton Park &  8528\\\\\n",
       "\t Sip Ave       &  7207\\\\\n",
       "\\end{tabular}\n"
      ],
      "text/markdown": [
       "\n",
       "A tibble: 3 × 2\n",
       "\n",
       "| start.station.name &lt;chr&gt; | start_times &lt;int&gt; |\n",
       "|---|---|\n",
       "| Grove St PATH | 17871 |\n",
       "| Hamilton Park |  8528 |\n",
       "| Sip Ave       |  7207 |\n",
       "\n"
      ],
      "text/plain": [
       "  start.station.name start_times\n",
       "1 Grove St PATH      17871      \n",
       "2 Hamilton Park       8528      \n",
       "3 Sip Ave             7207      "
      ]
     },
     "metadata": {},
     "output_type": "display_data"
    },
    {
     "data": {
      "text/html": [
       "<table class=\"dataframe\">\n",
       "<caption>A tibble: 20 × 2</caption>\n",
       "<thead>\n",
       "\t<tr><th scope=col>end.station.name</th><th scope=col>end_times</th></tr>\n",
       "\t<tr><th scope=col>&lt;chr&gt;</th><th scope=col>&lt;int&gt;</th></tr>\n",
       "</thead>\n",
       "<tbody>\n",
       "\t<tr><td><span style=white-space:pre-wrap>1 Ave &amp; E 16 St            </span></td><td>1</td></tr>\n",
       "\t<tr><td><span style=white-space:pre-wrap>8 Ave &amp; W 52 St            </span></td><td>1</td></tr>\n",
       "\t<tr><td><span style=white-space:pre-wrap>Amsterdam Ave &amp; W 73 St    </span></td><td>1</td></tr>\n",
       "\t<tr><td><span style=white-space:pre-wrap>E 33 St &amp; 5 Ave            </span></td><td>1</td></tr>\n",
       "\t<tr><td><span style=white-space:pre-wrap>Norfolk St &amp; Broome St     </span></td><td>1</td></tr>\n",
       "\t<tr><td><span style=white-space:pre-wrap>South St &amp; Gouverneur Ln   </span></td><td>1</td></tr>\n",
       "\t<tr><td><span style=white-space:pre-wrap>Spruce St &amp; Nassau St      </span></td><td>1</td></tr>\n",
       "\t<tr><td><span style=white-space:pre-wrap>W 15 St &amp; 10 Ave           </span></td><td>1</td></tr>\n",
       "\t<tr><td><span style=white-space:pre-wrap>W 15 St &amp; 6 Ave            </span></td><td>1</td></tr>\n",
       "\t<tr><td><span style=white-space:pre-wrap>W 20 St &amp; 11 Ave           </span></td><td>1</td></tr>\n",
       "\t<tr><td><span style=white-space:pre-wrap>W 27 St &amp; 10 Ave           </span></td><td>1</td></tr>\n",
       "\t<tr><td><span style=white-space:pre-wrap>W 38 St &amp; 8 Ave            </span></td><td>1</td></tr>\n",
       "\t<tr><td><span style=white-space:pre-wrap>W 43 St &amp; 6 Ave            </span></td><td>1</td></tr>\n",
       "\t<tr><td><span style=white-space:pre-wrap>W 56 St &amp; 10 Ave           </span></td><td>1</td></tr>\n",
       "\t<tr><td><span style=white-space:pre-wrap>West St &amp; Chambers St      </span></td><td>1</td></tr>\n",
       "\t<tr><td><span style=white-space:pre-wrap>Amsterdam Ave &amp; W 125 St   </span></td><td>2</td></tr>\n",
       "\t<tr><td><span style=white-space:pre-wrap>Amsterdam Ave &amp; W 79 St    </span></td><td>2</td></tr>\n",
       "\t<tr><td>Central Park West &amp; W 85 St</td><td>2</td></tr>\n",
       "\t<tr><td>Greenwich Ave &amp; Charles St </td><td>2</td></tr>\n",
       "\t<tr><td><span style=white-space:pre-wrap>Mercer St &amp; Spring St      </span></td><td>2</td></tr>\n",
       "</tbody>\n",
       "</table>\n"
      ],
      "text/latex": [
       "A tibble: 20 × 2\n",
       "\\begin{tabular}{ll}\n",
       " end.station.name & end\\_times\\\\\n",
       " <chr> & <int>\\\\\n",
       "\\hline\n",
       "\t 1 Ave \\& E 16 St             & 1\\\\\n",
       "\t 8 Ave \\& W 52 St             & 1\\\\\n",
       "\t Amsterdam Ave \\& W 73 St     & 1\\\\\n",
       "\t E 33 St \\& 5 Ave             & 1\\\\\n",
       "\t Norfolk St \\& Broome St      & 1\\\\\n",
       "\t South St \\& Gouverneur Ln    & 1\\\\\n",
       "\t Spruce St \\& Nassau St       & 1\\\\\n",
       "\t W 15 St \\& 10 Ave            & 1\\\\\n",
       "\t W 15 St \\& 6 Ave             & 1\\\\\n",
       "\t W 20 St \\& 11 Ave            & 1\\\\\n",
       "\t W 27 St \\& 10 Ave            & 1\\\\\n",
       "\t W 38 St \\& 8 Ave             & 1\\\\\n",
       "\t W 43 St \\& 6 Ave             & 1\\\\\n",
       "\t W 56 St \\& 10 Ave            & 1\\\\\n",
       "\t West St \\& Chambers St       & 1\\\\\n",
       "\t Amsterdam Ave \\& W 125 St    & 2\\\\\n",
       "\t Amsterdam Ave \\& W 79 St     & 2\\\\\n",
       "\t Central Park West \\& W 85 St & 2\\\\\n",
       "\t Greenwich Ave \\& Charles St  & 2\\\\\n",
       "\t Mercer St \\& Spring St       & 2\\\\\n",
       "\\end{tabular}\n"
      ],
      "text/markdown": [
       "\n",
       "A tibble: 20 × 2\n",
       "\n",
       "| end.station.name &lt;chr&gt; | end_times &lt;int&gt; |\n",
       "|---|---|\n",
       "| 1 Ave &amp; E 16 St             | 1 |\n",
       "| 8 Ave &amp; W 52 St             | 1 |\n",
       "| Amsterdam Ave &amp; W 73 St     | 1 |\n",
       "| E 33 St &amp; 5 Ave             | 1 |\n",
       "| Norfolk St &amp; Broome St      | 1 |\n",
       "| South St &amp; Gouverneur Ln    | 1 |\n",
       "| Spruce St &amp; Nassau St       | 1 |\n",
       "| W 15 St &amp; 10 Ave            | 1 |\n",
       "| W 15 St &amp; 6 Ave             | 1 |\n",
       "| W 20 St &amp; 11 Ave            | 1 |\n",
       "| W 27 St &amp; 10 Ave            | 1 |\n",
       "| W 38 St &amp; 8 Ave             | 1 |\n",
       "| W 43 St &amp; 6 Ave             | 1 |\n",
       "| W 56 St &amp; 10 Ave            | 1 |\n",
       "| West St &amp; Chambers St       | 1 |\n",
       "| Amsterdam Ave &amp; W 125 St    | 2 |\n",
       "| Amsterdam Ave &amp; W 79 St     | 2 |\n",
       "| Central Park West &amp; W 85 St | 2 |\n",
       "| Greenwich Ave &amp; Charles St  | 2 |\n",
       "| Mercer St &amp; Spring St       | 2 |\n",
       "\n"
      ],
      "text/plain": [
       "   end.station.name            end_times\n",
       "1  1 Ave & E 16 St             1        \n",
       "2  8 Ave & W 52 St             1        \n",
       "3  Amsterdam Ave & W 73 St     1        \n",
       "4  E 33 St & 5 Ave             1        \n",
       "5  Norfolk St & Broome St      1        \n",
       "6  South St & Gouverneur Ln    1        \n",
       "7  Spruce St & Nassau St       1        \n",
       "8  W 15 St & 10 Ave            1        \n",
       "9  W 15 St & 6 Ave             1        \n",
       "10 W 20 St & 11 Ave            1        \n",
       "11 W 27 St & 10 Ave            1        \n",
       "12 W 38 St & 8 Ave             1        \n",
       "13 W 43 St & 6 Ave             1        \n",
       "14 W 56 St & 10 Ave            1        \n",
       "15 West St & Chambers St       1        \n",
       "16 Amsterdam Ave & W 125 St    2        \n",
       "17 Amsterdam Ave & W 79 St     2        \n",
       "18 Central Park West & W 85 St 2        \n",
       "19 Greenwich Ave & Charles St  2        \n",
       "20 Mercer St & Spring St       2        "
      ]
     },
     "metadata": {},
     "output_type": "display_data"
    }
   ],
   "source": [
    "#find the most common start station and the least popular end station\n",
    "data_sstations <- data_excl %>% group_by(start.station.name) %>% summarize(start_times = n()) %>% arrange(desc(start_times))\n",
    "head(data_sstations, 3)\n",
    "\n",
    "data_estations <- data_excl %>% group_by(end.station.name) %>% summarize(end_times = n()) %>% arrange(end_times)\n",
    "head(data_estations, 20)"
   ]
  },
  {
   "cell_type": "code",
   "execution_count": 19,
   "metadata": {
    "vscode": {
     "languageId": "r"
    }
   },
   "outputs": [
    {
     "data": {
      "text/html": [
       "<table class=\"dataframe\">\n",
       "<caption>A tibble: 3 × 3</caption>\n",
       "<thead>\n",
       "\t<tr><th scope=col>start.station.name</th><th scope=col>end.station.name</th><th scope=col>n_routes</th></tr>\n",
       "\t<tr><th scope=col>&lt;chr&gt;</th><th scope=col>&lt;chr&gt;</th><th scope=col>&lt;int&gt;</th></tr>\n",
       "</thead>\n",
       "<tbody>\n",
       "\t<tr><td>Hamilton Park  </td><td>Grove St PATH</td><td>3037</td></tr>\n",
       "\t<tr><td>Grove St PATH  </td><td>Hamilton Park</td><td>2318</td></tr>\n",
       "\t<tr><td>Brunswick &amp; 6th</td><td>Grove St PATH</td><td>1915</td></tr>\n",
       "</tbody>\n",
       "</table>\n"
      ],
      "text/latex": [
       "A tibble: 3 × 3\n",
       "\\begin{tabular}{lll}\n",
       " start.station.name & end.station.name & n\\_routes\\\\\n",
       " <chr> & <chr> & <int>\\\\\n",
       "\\hline\n",
       "\t Hamilton Park   & Grove St PATH & 3037\\\\\n",
       "\t Grove St PATH   & Hamilton Park & 2318\\\\\n",
       "\t Brunswick \\& 6th & Grove St PATH & 1915\\\\\n",
       "\\end{tabular}\n"
      ],
      "text/markdown": [
       "\n",
       "A tibble: 3 × 3\n",
       "\n",
       "| start.station.name &lt;chr&gt; | end.station.name &lt;chr&gt; | n_routes &lt;int&gt; |\n",
       "|---|---|---|\n",
       "| Hamilton Park   | Grove St PATH | 3037 |\n",
       "| Grove St PATH   | Hamilton Park | 2318 |\n",
       "| Brunswick &amp; 6th | Grove St PATH | 1915 |\n",
       "\n"
      ],
      "text/plain": [
       "  start.station.name end.station.name n_routes\n",
       "1 Hamilton Park      Grove St PATH    3037    \n",
       "2 Grove St PATH      Hamilton Park    2318    \n",
       "3 Brunswick & 6th    Grove St PATH    1915    "
      ]
     },
     "metadata": {},
     "output_type": "display_data"
    },
    {
     "data": {
      "text/html": [
       "<table class=\"dataframe\">\n",
       "<caption>A tibble: 3 × 3</caption>\n",
       "<thead>\n",
       "\t<tr><th scope=col>start.station.name</th><th scope=col>end.station.name</th><th scope=col>n_routes</th></tr>\n",
       "\t<tr><th scope=col>&lt;chr&gt;</th><th scope=col>&lt;chr&gt;</th><th scope=col>&lt;int&gt;</th></tr>\n",
       "</thead>\n",
       "<tbody>\n",
       "\t<tr><td>5 Corners Library</td><td>Dixon Mills    </td><td>1</td></tr>\n",
       "\t<tr><td>5 Corners Library</td><td>Grand St       </td><td>1</td></tr>\n",
       "\t<tr><td><span style=white-space:pre-wrap>Astor Place      </span></td><td>Brunswick &amp; 6th</td><td>1</td></tr>\n",
       "</tbody>\n",
       "</table>\n"
      ],
      "text/latex": [
       "A tibble: 3 × 3\n",
       "\\begin{tabular}{lll}\n",
       " start.station.name & end.station.name & n\\_routes\\\\\n",
       " <chr> & <chr> & <int>\\\\\n",
       "\\hline\n",
       "\t 5 Corners Library & Dixon Mills     & 1\\\\\n",
       "\t 5 Corners Library & Grand St        & 1\\\\\n",
       "\t Astor Place       & Brunswick \\& 6th & 1\\\\\n",
       "\\end{tabular}\n"
      ],
      "text/markdown": [
       "\n",
       "A tibble: 3 × 3\n",
       "\n",
       "| start.station.name &lt;chr&gt; | end.station.name &lt;chr&gt; | n_routes &lt;int&gt; |\n",
       "|---|---|---|\n",
       "| 5 Corners Library | Dixon Mills     | 1 |\n",
       "| 5 Corners Library | Grand St        | 1 |\n",
       "| Astor Place       | Brunswick &amp; 6th | 1 |\n",
       "\n"
      ],
      "text/plain": [
       "  start.station.name end.station.name n_routes\n",
       "1 5 Corners Library  Dixon Mills      1       \n",
       "2 5 Corners Library  Grand St         1       \n",
       "3 Astor Place        Brunswick & 6th  1       "
      ]
     },
     "metadata": {},
     "output_type": "display_data"
    }
   ],
   "source": [
    "#find the three most common routes (start and end station)\n",
    "# and the three least popular ones\n",
    "\n",
    "data_routes <- data_excl %>% group_by(start.station.name, end.station.name) %>% summarize(n_routes = n(), .groups = 'drop')\n",
    "\n",
    "data_routes %>% arrange(desc(n_routes)) %>% head(n = 3)\n",
    "data_routes %>% arrange(n_routes) %>% head(n = 3)\n"
   ]
  },
  {
   "cell_type": "markdown",
   "metadata": {},
   "source": [
    "## Exercise 2 Parallel pixelated sensors"
   ]
  },
  {
   "cell_type": "code",
   "execution_count": 20,
   "metadata": {
    "vscode": {
     "languageId": "r"
    }
   },
   "outputs": [
    {
     "name": "stderr",
     "output_type": "stream",
     "text": [
      "Warning message:\n",
      "\"il pacchetto 'googledrive' è stato creato con R versione 4.4.3\"\n",
      "File downloaded:\n",
      "\n",
      "• \u001b[36ml2tree_maxedeptrack_str_20241119_072440_BTff3_ThetaMax60_TrgFlgAll_codver3_onlyMTX.csv\u001b[39m\n",
      "  \u001b[90m<id: 1dYPF5tL3qnBmTVbawyKbPOQooi_CCElV>\u001b[39m\n",
      "\n",
      "Saved locally as:\n",
      "\n",
      "• \u001b[34mpps.csv\u001b[39m\n",
      "\n"
     ]
    }
   ],
   "source": [
    "library(googledrive)\n",
    "\n",
    "drive_deauth()\n",
    "drive_download(as_id(\"1dYPF5tL3qnBmTVbawyKbPOQooi_CCElV\"), path = \"pps.csv\", overwrite = TRUE)\n",
    "pps <- read.csv(\"pps.csv\")\n"
   ]
  },
  {
   "cell_type": "code",
   "execution_count": null,
   "metadata": {
    "vscode": {
     "languageId": "r"
    }
   },
   "outputs": [],
   "source": [
    "# For each event and for each 8×8 matrix, check for missing values in the dataset and handle them appropriately\n",
    "pps_mat1_raw <- pps[, 1:64]\n",
    "pps_mat2_raw <- pps[, 65:128]\n",
    "pps_mat1_raw <- na.omit(pps_mat1_raw)\n",
    "pps_mat2_raw <- na.omit(pps_mat2_raw)"
   ]
  },
  {
   "cell_type": "code",
   "execution_count": 22,
   "metadata": {
    "vscode": {
     "languageId": "r"
    }
   },
   "outputs": [],
   "source": [
    "# For each event and for each 8×8 matrix, determine the maximum and second maximum pixel values\n",
    "\n",
    "pps_mat1 <- pps_mat1_raw %>% rowwise() %>% mutate(\n",
    "    max1 = max(c_across(1:64)),\n",
    "    argmax1 = which.max(c_across(1:64)),\n",
    "    max2 = sort(unique(c_across(1:64)), decreasing = TRUE)[2],\n",
    "    argmax2 = which(c_across(1:64) == max2)[1] # Adjust to second max position\n",
    "  ) %>%\n",
    "  ungroup()"
   ]
  },
  {
   "cell_type": "code",
   "execution_count": 23,
   "metadata": {
    "vscode": {
     "languageId": "r"
    }
   },
   "outputs": [],
   "source": [
    "pps_mat2 <- pps_mat2_raw %>% rowwise() %>% mutate(\n",
    "    max1 = max(c_across(1:64)),\n",
    "    argmax1 = which.max(c_across(1:64)),\n",
    "\n",
    "    max2 = sort(unique(c_across(1:64)), decreasing = TRUE)[2],\n",
    "    argmax2 = which(c_across(1:64) == max2)[2]\n",
    "  ) %>%\n",
    "  ungroup()"
   ]
  },
  {
   "cell_type": "code",
   "execution_count": 24,
   "metadata": {
    "vscode": {
     "languageId": "r"
    }
   },
   "outputs": [
    {
     "name": "stderr",
     "output_type": "stream",
     "text": [
      "Warning message:\n",
      "\"\u001b[1m\u001b[22mRemoved 51254 rows containing non-finite outside the scale range\n",
      "(`stat_bin()`).\"\n"
     ]
    },
    {
     "data": {
      "image/png": "[encoded data removed]",
      "text/plain": [
       "plot without title"
      ]
     },
     "metadata": {
      "image/png": {
       "height": 420,
       "width": 420
      }
     },
     "output_type": "display_data"
    }
   ],
   "source": [
    "ggplot() +\n",
    "  geom_histogram(data = pps_mat1, aes(x = argmax1, fill = \"argmax1\"), binwidth = 1, alpha = 0.5, color = \"black\") +\n",
    "  geom_histogram(data = pps_mat1, aes(x = argmax2, fill = \"argmax2\"), binwidth = 1, alpha = 0.5, color = \"black\") +\n",
    "  scale_fill_manual(values = c(\"argmax1\" = \"blue\", \"argmax2\" = \"orange\")) +\n",
    "  theme_minimal() +\n",
    "  labs(title = \"Distribution of Indices for 1st and 2nd Maximum, 1st layer\",\n",
    "       x = \"Index of Pixel Value\",\n",
    "       y = \"Frequency\") +\n",
    "  theme(legend.title = element_blank())  # Remove the legend title"
   ]
  },
  {
   "cell_type": "code",
   "execution_count": 25,
   "metadata": {
    "vscode": {
     "languageId": "r"
    }
   },
   "outputs": [
    {
     "name": "stderr",
     "output_type": "stream",
     "text": [
      "Warning message:\n",
      "\"\u001b[1m\u001b[22mRemoved 99943 rows containing non-finite outside the scale range\n",
      "(`stat_bin()`).\"\n"
     ]
    },
    {
     "data": {
      "image/png": "[encoded data removed]",
      "text/plain": [
       "plot without title"
      ]
     },
     "metadata": {
      "image/png": {
       "height": 420,
       "width": 420
      }
     },
     "output_type": "display_data"
    }
   ],
   "source": [
    "ggplot() +\n",
    "  geom_histogram(data = pps_mat2, aes(x = argmax1, fill = \"argmax1\"), binwidth = 1, alpha = 0.5, color = \"black\") +\n",
    "  geom_histogram(data = pps_mat2, aes(x = argmax2, fill = \"argmax2\"), binwidth = 1, alpha = 0.5, color = \"black\") +\n",
    "  scale_fill_manual(values = c(\"argmax1\" = \"blue\", \"argmax2\" = \"orange\")) +\n",
    "  theme_minimal() +\n",
    "  labs(title = \"Distribution of Indices for 1st and 2nd Maximum, 2nd layer\",\n",
    "       x = \"Index of Pixel Value\",\n",
    "       y = \"Frequency\") +\n",
    "  theme(legend.title = element_blank()) "
   ]
  },
  {
   "cell_type": "code",
   "execution_count": 26,
   "metadata": {
    "vscode": {
     "languageId": "r"
    }
   },
   "outputs": [],
   "source": [
    "#Repeat the same plot but excluding events where the maximum signal is less than 10\n",
    "pps_mat1_c1 <- pps_mat1[pps_mat1$max1 >= 10, ]\n",
    "pps_mat2_c1 <- pps_mat2[pps_mat2$max1 >= 10, ]\n"
   ]
  },
  {
   "cell_type": "code",
   "execution_count": 27,
   "metadata": {
    "vscode": {
     "languageId": "r"
    }
   },
   "outputs": [
    {
     "data": {
      "image/png": "[encoded data removed]",
      "text/plain": [
       "plot without title"
      ]
     },
     "metadata": {
      "image/png": {
       "height": 420,
       "width": 420
      }
     },
     "output_type": "display_data"
    }
   ],
   "source": [
    "ggplot() +\n",
    "  geom_histogram(data = pps_mat1_c1, aes(x = argmax1, fill = \"argmax1\"), binwidth = 1, alpha = 0.5, color = \"black\") +\n",
    "  geom_histogram(data = pps_mat1_c1, aes(x = argmax2, fill = \"argmax2\"), binwidth = 1, alpha = 0.5, color = \"black\") +\n",
    "  scale_fill_manual(values = c(\"argmax1\" = \"blue\", \"argmax2\" = \"orange\")) +\n",
    "  theme_minimal() +\n",
    "  labs(title = \"Distribution of Indices for 1st and 2nd Maximum, 1st layer\",\n",
    "       x = \"Index of Pixel Value\",\n",
    "       y = \"Frequency\") +\n",
    "  theme(legend.title = element_blank()) "
   ]
  },
  {
   "cell_type": "code",
   "execution_count": 28,
   "metadata": {
    "vscode": {
     "languageId": "r"
    }
   },
   "outputs": [
    {
     "name": "stderr",
     "output_type": "stream",
     "text": [
      "Warning message:\n",
      "\"\u001b[1m\u001b[22mRemoved 45462 rows containing non-finite outside the scale range\n",
      "(`stat_bin()`).\"\n"
     ]
    },
    {
     "data": {
      "image/png": "[encoded data removed]",
      "text/plain": [
       "plot without title"
      ]
     },
     "metadata": {
      "image/png": {
       "height": 420,
       "width": 420
      }
     },
     "output_type": "display_data"
    }
   ],
   "source": [
    "ggplot() +\n",
    "  geom_histogram(data = pps_mat2_c1, aes(x = argmax1, fill = \"argmax1\"), binwidth = 1, alpha = 0.5, color = \"black\") +\n",
    "  geom_histogram(data = pps_mat2_c1, aes(x = argmax2, fill = \"argmax2\"), binwidth = 1, alpha = 0.5, color = \"black\") +\n",
    "  scale_fill_manual(values = c(\"argmax1\" = \"blue\", \"argmax2\" = \"orange\")) +\n",
    "  theme_minimal() +\n",
    "  labs(title = \"Distribution of Indices for 1st and 2nd Maximum, 2nd layer\",\n",
    "       x = \"Index of Pixel Value\",\n",
    "       y = \"Frequency\") +\n",
    "  theme(legend.title = element_blank())"
   ]
  },
  {
   "cell_type": "code",
   "execution_count": 29,
   "metadata": {
    "vscode": {
     "languageId": "r"
    }
   },
   "outputs": [],
   "source": [
    "#Compute event-by-event, the ratio between the second and first maximum values\n",
    "pps_mat1_c1 <- pps_mat1_c1 %>% mutate(ratio= max2/max1)\n",
    "pps_mat2_c1 <- pps_mat2_c1 %>% mutate(ratio= max2/max1)"
   ]
  },
  {
   "cell_type": "code",
   "execution_count": 30,
   "metadata": {
    "vscode": {
     "languageId": "r"
    }
   },
   "outputs": [],
   "source": [
    "#Only consider events where both values are greater than zero.\n",
    "#Plot the distribution of this ratio in four different signal ranges:\n",
    "pps_mat1_c2 <- pps_mat1_c1[pps_mat1_c1$max1 > 0 & pps_mat1_c1$max2 > 0, ]\n",
    "pps_mat2_c2 <- pps_mat2_c1[pps_mat2_c1$max1 > 0 & pps_mat2_c1$max2 > 0, ]\n",
    "\n",
    "pps_mat1_c2 <- pps_mat1_c2 %>%\n",
    "  mutate(signal_range = case_when(\n",
    "    max1 >= 10 & max1 < 300 ~ \"10 < Max1 < 300\",\n",
    "    max1 >= 300 & max1 < 1200 ~ \"300 < Max1 < 1200\",\n",
    "    max1 >= 1200 & max1 < 30000 ~ \"1200 < Max1 < 30000\",\n",
    "    max1 >= 30000 ~ \"Max1 ≥ 30000\"\n",
    "  ))\n",
    "\n",
    "pps_mat2_c2 <- pps_mat2_c2 %>%\n",
    "  mutate(signal_range = case_when(\n",
    "    max1 >= 10 & max1 < 300 ~ \"10 < Max1 < 300\",\n",
    "    max1 >= 300 & max1 < 1200 ~ \"300 < Max1 < 1200\",\n",
    "    max1 >= 1200 & max1 < 30000 ~ \"1200 < Max1 < 30000\",\n",
    "    max1 >= 30000 ~ \"Max1 > 30000\"\n",
    "  ))"
   ]
  },
  {
   "cell_type": "code",
   "execution_count": null,
   "metadata": {
    "vscode": {
     "languageId": "r"
    }
   },
   "outputs": [
    {
     "data": {
      "image/png": "[encoded data removed]",
      "text/plain": [
       "plot without title"
      ]
     },
     "metadata": {
      "image/png": {
       "height": 420,
       "width": 420
      }
     },
     "output_type": "display_data"
    }
   ],
   "source": [
    "ggplot(pps_mat1_c2, aes(x = ratio, fill = signal_range)) +\n",
    "  geom_histogram(binwidth = 0.05, position = \"identity\", alpha = 0.6, color = \"black\") +\n",
    "  facet_wrap(~ signal_range, scales = \"fixed\") +\n",
    "  theme_minimal() +\n",
    "  labs(\n",
    "    title = \"Distribution of Ratio (Second Max / First Max), 1st layer\",\n",
    "    x = \"Ratio (max2 / max1)\",\n",
    "    y = \"Frequency\",\n",
    "    fill = \"Signal Range\"\n",
    "  )"
   ]
  },
  {
   "cell_type": "code",
   "execution_count": 35,
   "metadata": {
    "vscode": {
     "languageId": "r"
    }
   },
   "outputs": [
    {
     "data": {
      "image/png": "[encoded data removed]",
      "text/plain": [
       "plot without title"
      ]
     },
     "metadata": {
      "image/png": {
       "height": 420,
       "width": 420
      }
     },
     "output_type": "display_data"
    }
   ],
   "source": [
    "ggplot(pps_mat2_c2, aes(x = ratio, fill = signal_range)) +\n",
    "  geom_histogram(binwidth = 0.05, position = \"identity\", alpha = 0.6, color = \"black\") +\n",
    "  facet_wrap(~ signal_range, scales = \"fixed\") +\n",
    "  theme_minimal() +\n",
    "  labs(\n",
    "    title = \"Distribution of Ratio (Second Max / First Max), 2nd layer\",\n",
    "    x = \"Ratio (max2 / max1)\",\n",
    "    y = \"Frequency\",\n",
    "    fill = \"Signal Range\"\n",
    "  )"
   ]
  },
  {
   "cell_type": "code",
   "execution_count": 39,
   "metadata": {
    "vscode": {
     "languageId": "r"
    }
   },
   "outputs": [],
   "source": [
    "#generate heatmaps illustrating the spatial distribution\n",
    "pps_mat1_c2 <- pps_mat1_c2 %>% mutate(row1= ((argmax1 - 1) %% 8)+1, col1= ((argmax1 - 1) %/% 8)+1, row2=((argmax2 - 1) %% 8)+1, col2= ((argmax2 - 1) %/% 8)+1)\n",
    "pps_mat2_c2 <- pps_mat2_c2 %>% mutate(row1=((argmax1 - 1) %% 8)+1, col1= ((argmax1 - 1) %/% 8)+1, row2=((argmax2 - 1) %% 8)+1, col2= ((argmax2 - 1) %/% 8)+1)\n",
    "\n",
    "heatmap_max1_mat1 <- pps_mat1_c2 %>%\n",
    "  count(row = row1, col = col1)\n",
    "heatmap_max2_mat1 <- pps_mat1_c2 %>%\n",
    "  count(row = row2, col = col2)\n",
    "\n",
    "heatmap_max1_mat2 <- pps_mat2_c2 %>%\n",
    "  count(row = row1, col = col1)\n",
    "heatmap_max2_mat2 <- pps_mat2_c2 %>%\n",
    "  count(row = row2, col = col2)"
   ]
  },
  {
   "cell_type": "code",
   "execution_count": 40,
   "metadata": {
    "vscode": {
     "languageId": "r"
    }
   },
   "outputs": [
    {
     "data": {
      "image/png": "[encoded data removed]",
      "text/plain": [
       "plot without title"
      ]
     },
     "metadata": {
      "image/png": {
       "height": 420,
       "width": 420
      }
     },
     "output_type": "display_data"
    },
    {
     "data": {
      "image/png": "[encoded data removed]",
      "text/plain": [
       "plot without title"
      ]
     },
     "metadata": {
      "image/png": {
       "height": 420,
       "width": 420
      }
     },
     "output_type": "display_data"
    }
   ],
   "source": [
    "ggplot(heatmap_max1_mat1, aes(x = col, y = row, fill = n)) +\n",
    "  geom_tile(color = \"white\") +\n",
    "  scale_fill_viridis_c() +\n",
    "  scale_y_reverse() +\n",
    "  coord_fixed() +\n",
    "  labs(title = \"Heatmap of 1st Max Pixel Positions, layer 1\", x = \"Column\", y = \"Row\", fill = \"Frequency\") +\n",
    "  theme_minimal()\n",
    "\n",
    "ggplot(heatmap_max2_mat1, aes(x = col, y = row, fill = n)) +\n",
    "  geom_tile(color = \"white\") +\n",
    "  scale_fill_viridis_c() +\n",
    "  scale_y_reverse() +\n",
    "  coord_fixed() +\n",
    "  labs(title = \"Heatmap of 2nd Max Pixel Positions, layer 1\", x = \"Column\", y = \"Row\", fill = \"Frequency\") +\n",
    "  theme_minimal()"
   ]
  },
  {
   "cell_type": "code",
   "execution_count": null,
   "metadata": {
    "vscode": {
     "languageId": "r"
    }
   },
   "outputs": [],
   "source": [
    "#count the number of times the pixel of max matches in upstream-downstream matrices\n",
    "# create a barplot considering events where max exceeds 10\n",
    "\n",
    "joined_pps <- pps[, 1:128]\n",
    "joined_pps <- joined_pps %>% rowwise() %>% mutate(\n",
    "    maxup = max(c_across(1:64)),\n",
    "    argmaxup = which.max(c_across(1:64)),\n",
    "\n",
    "    maxdown = max(c_across(65:128)),\n",
    "    argmaxdown = which.max(c_across(65:128))\n",
    "  ) %>%\n",
    "  ungroup()"
   ]
  },
  {
   "cell_type": "code",
   "execution_count": null,
   "metadata": {
    "vscode": {
     "languageId": "r"
    }
   },
   "outputs": [],
   "source": [
    "pps_mat1_c1 <- pps_mat1[pps_mat1$max1 >= 10, ]\n",
    "pps_mat2_c1 <- pps_mat2[pps_mat2$max1 >= 10, ]joined_pps <- joined_pps %>% mutate(match = (maxup==maxdown))\n",
    "match_counts <- joined_pps %>%\n",
    "  count(match)"
   ]
  }
 ],
 "metadata": {
  "kernelspec": {
   "display_name": "R",
   "language": "R",
   "name": "ir"
  },
  "language_info": {
   "codemirror_mode": "r",
   "file_extension": ".r",
   "mimetype": "text/x-r-source",
   "name": "R",
   "pygments_lexer": "r",
   "version": "4.4.2"
  }
 },
 "nbformat": 4,
 "nbformat_minor": 2
}
